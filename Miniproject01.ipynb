{
  "nbformat": 4,
  "nbformat_minor": 0,
  "metadata": {
    "colab": {
      "name": "Miniproject01.ipynb",
      "provenance": [],
      "collapsed_sections": [],
      "authorship_tag": "ABX9TyMUvwirpVJBC7R15cH1hYwx",
      "include_colab_link": true
    },
    "kernelspec": {
      "name": "python3",
      "display_name": "Python 3"
    }
  },
  "cells": [
    {
      "cell_type": "markdown",
      "metadata": {
        "id": "view-in-github",
        "colab_type": "text"
      },
      "source": [
        "<a href=\"https://colab.research.google.com/github/AMendezCerquera/Homeworks/blob/main/Miniproject01.ipynb\" target=\"_parent\"><img src=\"https://colab.research.google.com/assets/colab-badge.svg\" alt=\"Open In Colab\"/></a>"
      ]
    },
    {
      "cell_type": "markdown",
      "metadata": {
        "id": "KDJ3vAseWq-P"
      },
      "source": [
        "This function evaluates if check divides evenly num or not.\r\n",
        "\r\n"
      ]
    },
    {
      "cell_type": "code",
      "metadata": {
        "id": "x4MKoND4URvq"
      },
      "source": [
        "def numDividesCheck(num, check):\r\n",
        "  result = num%check #Result stores the remainder of the division between num and check\r\n",
        "  if result == 0: #Evaluates if the remainder is equal to 0\r\n",
        "    print(f\"The number {check} divides evenly {num}.\")\r\n",
        "  else:\r\n",
        "    print(f\"The number {check} doesn't divide evenly {num}.\")"
      ],
      "execution_count": 21,
      "outputs": []
    },
    {
      "cell_type": "markdown",
      "metadata": {
        "id": "TfLJiovmW5Bs"
      },
      "source": [
        "This function checks if a number, passed as parameter, is a multiple of 4. If it is, the function returns True, if not, it will return False."
      ]
    },
    {
      "cell_type": "code",
      "metadata": {
        "id": "pC9pSl21Wpow"
      },
      "source": [
        "def checkNumberMultipleFour(num):\r\n",
        "  isItMultiple = False\r\n",
        "  if num % 4 == 0: #Checks if the number is divisible by 4. If it is, it will return True. \r\n",
        "    isItMultiple = True\r\n",
        "  return isItMultiple"
      ],
      "execution_count": 22,
      "outputs": []
    },
    {
      "cell_type": "markdown",
      "metadata": {
        "id": "Udo0BmuXY9xg"
      },
      "source": [
        "This function checks if the number passed as parameter is even or odd. The function returns True if the number is even, and False if the number is odd."
      ]
    },
    {
      "cell_type": "code",
      "metadata": {
        "id": "HRml496pZGUn"
      },
      "source": [
        "def checkNumber(num):\r\n",
        "  isItEven = False\r\n",
        "  if num % 2 == 0: #Evaluates if the number passed by parameter is divisible evenly by 2.\r\n",
        "    isItEven = True\r\n",
        "  return isItEven"
      ],
      "execution_count": 23,
      "outputs": []
    },
    {
      "cell_type": "markdown",
      "metadata": {
        "id": "RCut9O9dUZTW"
      },
      "source": [
        "This code asks for a number. Depending on whether the number is even or odd, it will print out an appropriate message to the user. It also checks if the number passed as parameter is multiple of 4."
      ]
    },
    {
      "cell_type": "code",
      "metadata": {
        "id": "lAvo0JKEWyKa"
      },
      "source": [
        "userInput = int(input(\"Please type a number to check if it's even or odd: \"))\r\n",
        "if checkNumber(userInput) == True: #If the function returns True, the user input is an even number.\r\n",
        "  if checkNumberMultipleFour(userInput) == True:  #If the funtion returns True, the user input is a multiple of 4.\r\n",
        "    print(f\"The number {userInput} is even and also a multiple of 4\")\r\n",
        "  else: \r\n",
        "    print(f\"The number {userInput} is even.\")\r\n",
        "else:\r\n",
        "  print(f\"The number {userInput} is odd.\")"
      ],
      "execution_count": null,
      "outputs": []
    },
    {
      "cell_type": "markdown",
      "metadata": {
        "id": "H7lB6gJrbWOf"
      },
      "source": [
        "This code asks the user to type two numbers and use the function numDividesCheck(num,check) to evaluate if check divides evenly into num."
      ]
    },
    {
      "cell_type": "code",
      "metadata": {
        "id": "iDZN9ir-aOei"
      },
      "source": [
        "number1 = int(input(\"Please type the first number: \"))\r\n",
        "number2 = int(input(\"Please type the second number: \"))\r\n",
        "numDividesCheck(number1, number2) #Sends the two number received as input by the user to the function numDividesCheck(num,check)"
      ],
      "execution_count": null,
      "outputs": []
    }
  ]
}