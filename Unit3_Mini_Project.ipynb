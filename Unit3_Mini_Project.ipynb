{
  "nbformat": 4,
  "nbformat_minor": 0,
  "metadata": {
    "colab": {
      "name": "Unit3_Mini_Project.ipynb",
      "provenance": [],
      "collapsed_sections": [],
      "authorship_tag": "ABX9TyOVKvkwNiAdfpzSwX2W4jIB",
      "include_colab_link": true
    },
    "kernelspec": {
      "name": "python3",
      "display_name": "Python 3"
    }
  },
  "cells": [
    {
      "cell_type": "markdown",
      "metadata": {
        "id": "view-in-github",
        "colab_type": "text"
      },
      "source": [
        "<a href=\"https://colab.research.google.com/github/AMendezCerquera/Homeworks/blob/main/Unit3_Mini_Project.ipynb\" target=\"_parent\"><img src=\"https://colab.research.google.com/assets/colab-badge.svg\" alt=\"Open In Colab\"/></a>"
      ]
    },
    {
      "cell_type": "markdown",
      "metadata": {
        "id": "eWJ7E0vCqijk"
      },
      "source": [
        "#Importing libraries"
      ]
    },
    {
      "cell_type": "code",
      "metadata": {
        "collapsed": true,
        "jupyter": {
          "outputs_hidden": true
        },
        "id": "tbQ07aU7NE0X"
      },
      "source": [
        "#Importing all the necesary libraries to plot and make data calculations\r\n",
        "import pandas as pd\r\n",
        "import numpy as np\r\n",
        "import matplotlib.pyplot as plt\r\n",
        "import seaborn as sns\r\n",
        "sns.set()\r\n",
        "%matplotlib inline\r\n",
        "sns.set_style()"
      ],
      "execution_count": 1,
      "outputs": []
    },
    {
      "cell_type": "markdown",
      "metadata": {
        "id": "pHS4P1K_rlWp"
      },
      "source": [
        "#Data Collection\r\n",
        "Getting the Data"
      ]
    },
    {
      "cell_type": "code",
      "metadata": {
        "id": "1WIbNQNol-xd"
      },
      "source": [
        "#Getting the data from GitHub\r\n",
        "df = pd.read_csv('https://raw.githubusercontent.com/nytimes/covid-19-data/master/us-counties.csv')"
      ],
      "execution_count": 2,
      "outputs": []
    },
    {
      "cell_type": "markdown",
      "metadata": {
        "id": "aaykSXjirp6e"
      },
      "source": [
        "Checking the first 20 rows"
      ]
    },
    {
      "cell_type": "code",
      "metadata": {
        "colab": {
          "base_uri": "https://localhost:8080/",
          "height": 676
        },
        "id": "felOJp9Ymoo7",
        "outputId": "c3b80586-b03b-4bab-cf91-aad6894e41b2"
      },
      "source": [
        "df.head(20)\r\n",
        "#The data is about new cases of Covid-19 depending\r\n",
        "#on the date, county, and state. The data also offers fips, amount of cases\r\n",
        "#in that specific area, and new deaths."
      ],
      "execution_count": 3,
      "outputs": [
        {
          "output_type": "execute_result",
          "data": {
            "text/html": [
              "<div>\n",
              "<style scoped>\n",
              "    .dataframe tbody tr th:only-of-type {\n",
              "        vertical-align: middle;\n",
              "    }\n",
              "\n",
              "    .dataframe tbody tr th {\n",
              "        vertical-align: top;\n",
              "    }\n",
              "\n",
              "    .dataframe thead th {\n",
              "        text-align: right;\n",
              "    }\n",
              "</style>\n",
              "<table border=\"1\" class=\"dataframe\">\n",
              "  <thead>\n",
              "    <tr style=\"text-align: right;\">\n",
              "      <th></th>\n",
              "      <th>date</th>\n",
              "      <th>county</th>\n",
              "      <th>state</th>\n",
              "      <th>fips</th>\n",
              "      <th>cases</th>\n",
              "      <th>deaths</th>\n",
              "    </tr>\n",
              "  </thead>\n",
              "  <tbody>\n",
              "    <tr>\n",
              "      <th>0</th>\n",
              "      <td>2020-01-21</td>\n",
              "      <td>Snohomish</td>\n",
              "      <td>Washington</td>\n",
              "      <td>53061.0</td>\n",
              "      <td>1</td>\n",
              "      <td>0.0</td>\n",
              "    </tr>\n",
              "    <tr>\n",
              "      <th>1</th>\n",
              "      <td>2020-01-22</td>\n",
              "      <td>Snohomish</td>\n",
              "      <td>Washington</td>\n",
              "      <td>53061.0</td>\n",
              "      <td>1</td>\n",
              "      <td>0.0</td>\n",
              "    </tr>\n",
              "    <tr>\n",
              "      <th>2</th>\n",
              "      <td>2020-01-23</td>\n",
              "      <td>Snohomish</td>\n",
              "      <td>Washington</td>\n",
              "      <td>53061.0</td>\n",
              "      <td>1</td>\n",
              "      <td>0.0</td>\n",
              "    </tr>\n",
              "    <tr>\n",
              "      <th>3</th>\n",
              "      <td>2020-01-24</td>\n",
              "      <td>Cook</td>\n",
              "      <td>Illinois</td>\n",
              "      <td>17031.0</td>\n",
              "      <td>1</td>\n",
              "      <td>0.0</td>\n",
              "    </tr>\n",
              "    <tr>\n",
              "      <th>4</th>\n",
              "      <td>2020-01-24</td>\n",
              "      <td>Snohomish</td>\n",
              "      <td>Washington</td>\n",
              "      <td>53061.0</td>\n",
              "      <td>1</td>\n",
              "      <td>0.0</td>\n",
              "    </tr>\n",
              "    <tr>\n",
              "      <th>5</th>\n",
              "      <td>2020-01-25</td>\n",
              "      <td>Orange</td>\n",
              "      <td>California</td>\n",
              "      <td>6059.0</td>\n",
              "      <td>1</td>\n",
              "      <td>0.0</td>\n",
              "    </tr>\n",
              "    <tr>\n",
              "      <th>6</th>\n",
              "      <td>2020-01-25</td>\n",
              "      <td>Cook</td>\n",
              "      <td>Illinois</td>\n",
              "      <td>17031.0</td>\n",
              "      <td>1</td>\n",
              "      <td>0.0</td>\n",
              "    </tr>\n",
              "    <tr>\n",
              "      <th>7</th>\n",
              "      <td>2020-01-25</td>\n",
              "      <td>Snohomish</td>\n",
              "      <td>Washington</td>\n",
              "      <td>53061.0</td>\n",
              "      <td>1</td>\n",
              "      <td>0.0</td>\n",
              "    </tr>\n",
              "    <tr>\n",
              "      <th>8</th>\n",
              "      <td>2020-01-26</td>\n",
              "      <td>Maricopa</td>\n",
              "      <td>Arizona</td>\n",
              "      <td>4013.0</td>\n",
              "      <td>1</td>\n",
              "      <td>0.0</td>\n",
              "    </tr>\n",
              "    <tr>\n",
              "      <th>9</th>\n",
              "      <td>2020-01-26</td>\n",
              "      <td>Los Angeles</td>\n",
              "      <td>California</td>\n",
              "      <td>6037.0</td>\n",
              "      <td>1</td>\n",
              "      <td>0.0</td>\n",
              "    </tr>\n",
              "    <tr>\n",
              "      <th>10</th>\n",
              "      <td>2020-01-26</td>\n",
              "      <td>Orange</td>\n",
              "      <td>California</td>\n",
              "      <td>6059.0</td>\n",
              "      <td>1</td>\n",
              "      <td>0.0</td>\n",
              "    </tr>\n",
              "    <tr>\n",
              "      <th>11</th>\n",
              "      <td>2020-01-26</td>\n",
              "      <td>Cook</td>\n",
              "      <td>Illinois</td>\n",
              "      <td>17031.0</td>\n",
              "      <td>1</td>\n",
              "      <td>0.0</td>\n",
              "    </tr>\n",
              "    <tr>\n",
              "      <th>12</th>\n",
              "      <td>2020-01-26</td>\n",
              "      <td>Snohomish</td>\n",
              "      <td>Washington</td>\n",
              "      <td>53061.0</td>\n",
              "      <td>1</td>\n",
              "      <td>0.0</td>\n",
              "    </tr>\n",
              "    <tr>\n",
              "      <th>13</th>\n",
              "      <td>2020-01-27</td>\n",
              "      <td>Maricopa</td>\n",
              "      <td>Arizona</td>\n",
              "      <td>4013.0</td>\n",
              "      <td>1</td>\n",
              "      <td>0.0</td>\n",
              "    </tr>\n",
              "    <tr>\n",
              "      <th>14</th>\n",
              "      <td>2020-01-27</td>\n",
              "      <td>Los Angeles</td>\n",
              "      <td>California</td>\n",
              "      <td>6037.0</td>\n",
              "      <td>1</td>\n",
              "      <td>0.0</td>\n",
              "    </tr>\n",
              "    <tr>\n",
              "      <th>15</th>\n",
              "      <td>2020-01-27</td>\n",
              "      <td>Orange</td>\n",
              "      <td>California</td>\n",
              "      <td>6059.0</td>\n",
              "      <td>1</td>\n",
              "      <td>0.0</td>\n",
              "    </tr>\n",
              "    <tr>\n",
              "      <th>16</th>\n",
              "      <td>2020-01-27</td>\n",
              "      <td>Cook</td>\n",
              "      <td>Illinois</td>\n",
              "      <td>17031.0</td>\n",
              "      <td>1</td>\n",
              "      <td>0.0</td>\n",
              "    </tr>\n",
              "    <tr>\n",
              "      <th>17</th>\n",
              "      <td>2020-01-27</td>\n",
              "      <td>Snohomish</td>\n",
              "      <td>Washington</td>\n",
              "      <td>53061.0</td>\n",
              "      <td>1</td>\n",
              "      <td>0.0</td>\n",
              "    </tr>\n",
              "    <tr>\n",
              "      <th>18</th>\n",
              "      <td>2020-01-28</td>\n",
              "      <td>Maricopa</td>\n",
              "      <td>Arizona</td>\n",
              "      <td>4013.0</td>\n",
              "      <td>1</td>\n",
              "      <td>0.0</td>\n",
              "    </tr>\n",
              "    <tr>\n",
              "      <th>19</th>\n",
              "      <td>2020-01-28</td>\n",
              "      <td>Los Angeles</td>\n",
              "      <td>California</td>\n",
              "      <td>6037.0</td>\n",
              "      <td>1</td>\n",
              "      <td>0.0</td>\n",
              "    </tr>\n",
              "  </tbody>\n",
              "</table>\n",
              "</div>"
            ],
            "text/plain": [
              "          date       county       state     fips  cases  deaths\n",
              "0   2020-01-21    Snohomish  Washington  53061.0      1     0.0\n",
              "1   2020-01-22    Snohomish  Washington  53061.0      1     0.0\n",
              "2   2020-01-23    Snohomish  Washington  53061.0      1     0.0\n",
              "3   2020-01-24         Cook    Illinois  17031.0      1     0.0\n",
              "4   2020-01-24    Snohomish  Washington  53061.0      1     0.0\n",
              "5   2020-01-25       Orange  California   6059.0      1     0.0\n",
              "6   2020-01-25         Cook    Illinois  17031.0      1     0.0\n",
              "7   2020-01-25    Snohomish  Washington  53061.0      1     0.0\n",
              "8   2020-01-26     Maricopa     Arizona   4013.0      1     0.0\n",
              "9   2020-01-26  Los Angeles  California   6037.0      1     0.0\n",
              "10  2020-01-26       Orange  California   6059.0      1     0.0\n",
              "11  2020-01-26         Cook    Illinois  17031.0      1     0.0\n",
              "12  2020-01-26    Snohomish  Washington  53061.0      1     0.0\n",
              "13  2020-01-27     Maricopa     Arizona   4013.0      1     0.0\n",
              "14  2020-01-27  Los Angeles  California   6037.0      1     0.0\n",
              "15  2020-01-27       Orange  California   6059.0      1     0.0\n",
              "16  2020-01-27         Cook    Illinois  17031.0      1     0.0\n",
              "17  2020-01-27    Snohomish  Washington  53061.0      1     0.0\n",
              "18  2020-01-28     Maricopa     Arizona   4013.0      1     0.0\n",
              "19  2020-01-28  Los Angeles  California   6037.0      1     0.0"
            ]
          },
          "metadata": {
            "tags": []
          },
          "execution_count": 3
        }
      ]
    },
    {
      "cell_type": "markdown",
      "metadata": {
        "id": "KH7cFvyBsHGQ"
      },
      "source": [
        "Describing the data"
      ]
    },
    {
      "cell_type": "code",
      "metadata": {
        "colab": {
          "base_uri": "https://localhost:8080/",
          "height": 300
        },
        "id": "oxZIfasmnEcn",
        "outputId": "7a015436-5695-425a-9fcb-3b88aa40ad0d"
      },
      "source": [
        "#Understanding the different calculations from the information on cases and deaths\r\n",
        "df.describe()"
      ],
      "execution_count": 4,
      "outputs": [
        {
          "output_type": "execute_result",
          "data": {
            "text/html": [
              "<div>\n",
              "<style scoped>\n",
              "    .dataframe tbody tr th:only-of-type {\n",
              "        vertical-align: middle;\n",
              "    }\n",
              "\n",
              "    .dataframe tbody tr th {\n",
              "        vertical-align: top;\n",
              "    }\n",
              "\n",
              "    .dataframe thead th {\n",
              "        text-align: right;\n",
              "    }\n",
              "</style>\n",
              "<table border=\"1\" class=\"dataframe\">\n",
              "  <thead>\n",
              "    <tr style=\"text-align: right;\">\n",
              "      <th></th>\n",
              "      <th>fips</th>\n",
              "      <th>cases</th>\n",
              "      <th>deaths</th>\n",
              "    </tr>\n",
              "  </thead>\n",
              "  <tbody>\n",
              "    <tr>\n",
              "      <th>count</th>\n",
              "      <td>947306.000000</td>\n",
              "      <td>9.562160e+05</td>\n",
              "      <td>935739.000000</td>\n",
              "    </tr>\n",
              "    <tr>\n",
              "      <th>mean</th>\n",
              "      <td>31276.295676</td>\n",
              "      <td>2.328403e+03</td>\n",
              "      <td>58.527300</td>\n",
              "    </tr>\n",
              "    <tr>\n",
              "      <th>std</th>\n",
              "      <td>16302.017282</td>\n",
              "      <td>1.228538e+04</td>\n",
              "      <td>465.555423</td>\n",
              "    </tr>\n",
              "    <tr>\n",
              "      <th>min</th>\n",
              "      <td>1001.000000</td>\n",
              "      <td>0.000000e+00</td>\n",
              "      <td>0.000000</td>\n",
              "    </tr>\n",
              "    <tr>\n",
              "      <th>25%</th>\n",
              "      <td>19001.000000</td>\n",
              "      <td>4.300000e+01</td>\n",
              "      <td>0.000000</td>\n",
              "    </tr>\n",
              "    <tr>\n",
              "      <th>50%</th>\n",
              "      <td>29217.000000</td>\n",
              "      <td>2.790000e+02</td>\n",
              "      <td>5.000000</td>\n",
              "    </tr>\n",
              "    <tr>\n",
              "      <th>75%</th>\n",
              "      <td>46101.000000</td>\n",
              "      <td>1.199000e+03</td>\n",
              "      <td>25.000000</td>\n",
              "    </tr>\n",
              "    <tr>\n",
              "      <th>max</th>\n",
              "      <td>78030.000000</td>\n",
              "      <td>1.055214e+06</td>\n",
              "      <td>26398.000000</td>\n",
              "    </tr>\n",
              "  </tbody>\n",
              "</table>\n",
              "</div>"
            ],
            "text/plain": [
              "                fips         cases         deaths\n",
              "count  947306.000000  9.562160e+05  935739.000000\n",
              "mean    31276.295676  2.328403e+03      58.527300\n",
              "std     16302.017282  1.228538e+04     465.555423\n",
              "min      1001.000000  0.000000e+00       0.000000\n",
              "25%     19001.000000  4.300000e+01       0.000000\n",
              "50%     29217.000000  2.790000e+02       5.000000\n",
              "75%     46101.000000  1.199000e+03      25.000000\n",
              "max     78030.000000  1.055214e+06   26398.000000"
            ]
          },
          "metadata": {
            "tags": []
          },
          "execution_count": 4
        }
      ]
    },
    {
      "cell_type": "markdown",
      "metadata": {
        "id": "qF7Y-CFksI52"
      },
      "source": [
        "Getting all the columns with their types"
      ]
    },
    {
      "cell_type": "code",
      "metadata": {
        "colab": {
          "base_uri": "https://localhost:8080/"
        },
        "id": "e-sbQHYwo0lt",
        "outputId": "143fdce8-1a4a-4704-b4d5-f2bbba47e70e"
      },
      "source": [
        "#Finding out all the columns that the data has\r\n",
        "df.info()"
      ],
      "execution_count": 30,
      "outputs": [
        {
          "output_type": "stream",
          "text": [
            "<class 'pandas.core.frame.DataFrame'>\n",
            "Int64Index: 926829 entries, 0 to 956215\n",
            "Data columns (total 6 columns):\n",
            " #   Column  Non-Null Count   Dtype         \n",
            "---  ------  --------------   -----         \n",
            " 0   date    926829 non-null  datetime64[ns]\n",
            " 1   county  926829 non-null  object        \n",
            " 2   state   926829 non-null  object        \n",
            " 3   fips    926829 non-null  float64       \n",
            " 4   cases   926829 non-null  int64         \n",
            " 5   deaths  926829 non-null  float64       \n",
            "dtypes: datetime64[ns](1), float64(2), int64(1), object(2)\n",
            "memory usage: 49.5+ MB\n"
          ],
          "name": "stdout"
        }
      ]
    },
    {
      "cell_type": "markdown",
      "metadata": {
        "id": "MBi45bJ9ux04"
      },
      "source": [
        "#Data Wrangling\r\n",
        "We are going to clean the data of all the null values, and make sure that the columns are in the correct type of data.\r\n"
      ]
    },
    {
      "cell_type": "code",
      "metadata": {
        "id": "5amP8KMro4Zc"
      },
      "source": [
        "#Changing the type of the data column to datatime\r\n",
        "df['date'] = pd.to_datetime(df['date'])"
      ],
      "execution_count": 6,
      "outputs": []
    },
    {
      "cell_type": "markdown",
      "metadata": {
        "id": "NTBBN9rol2xe"
      },
      "source": [
        "FIPS gives us an idea of where the different cases are located but for our analysis, we are not using this columns so we are going to drop it."
      ]
    },
    {
      "cell_type": "code",
      "metadata": {
        "colab": {
          "base_uri": "https://localhost:8080/",
          "height": 423
        },
        "id": "NCZfknXmmEBh",
        "outputId": "a16e7c21-cd20-41d3-df88-3fe790f8d9ee"
      },
      "source": [
        "df.drop(['fips'], axis=1)"
      ],
      "execution_count": 7,
      "outputs": [
        {
          "output_type": "execute_result",
          "data": {
            "text/html": [
              "<div>\n",
              "<style scoped>\n",
              "    .dataframe tbody tr th:only-of-type {\n",
              "        vertical-align: middle;\n",
              "    }\n",
              "\n",
              "    .dataframe tbody tr th {\n",
              "        vertical-align: top;\n",
              "    }\n",
              "\n",
              "    .dataframe thead th {\n",
              "        text-align: right;\n",
              "    }\n",
              "</style>\n",
              "<table border=\"1\" class=\"dataframe\">\n",
              "  <thead>\n",
              "    <tr style=\"text-align: right;\">\n",
              "      <th></th>\n",
              "      <th>date</th>\n",
              "      <th>county</th>\n",
              "      <th>state</th>\n",
              "      <th>cases</th>\n",
              "      <th>deaths</th>\n",
              "    </tr>\n",
              "  </thead>\n",
              "  <tbody>\n",
              "    <tr>\n",
              "      <th>0</th>\n",
              "      <td>2020-01-21</td>\n",
              "      <td>Snohomish</td>\n",
              "      <td>Washington</td>\n",
              "      <td>1</td>\n",
              "      <td>0.0</td>\n",
              "    </tr>\n",
              "    <tr>\n",
              "      <th>1</th>\n",
              "      <td>2020-01-22</td>\n",
              "      <td>Snohomish</td>\n",
              "      <td>Washington</td>\n",
              "      <td>1</td>\n",
              "      <td>0.0</td>\n",
              "    </tr>\n",
              "    <tr>\n",
              "      <th>2</th>\n",
              "      <td>2020-01-23</td>\n",
              "      <td>Snohomish</td>\n",
              "      <td>Washington</td>\n",
              "      <td>1</td>\n",
              "      <td>0.0</td>\n",
              "    </tr>\n",
              "    <tr>\n",
              "      <th>3</th>\n",
              "      <td>2020-01-24</td>\n",
              "      <td>Cook</td>\n",
              "      <td>Illinois</td>\n",
              "      <td>1</td>\n",
              "      <td>0.0</td>\n",
              "    </tr>\n",
              "    <tr>\n",
              "      <th>4</th>\n",
              "      <td>2020-01-24</td>\n",
              "      <td>Snohomish</td>\n",
              "      <td>Washington</td>\n",
              "      <td>1</td>\n",
              "      <td>0.0</td>\n",
              "    </tr>\n",
              "    <tr>\n",
              "      <th>...</th>\n",
              "      <td>...</td>\n",
              "      <td>...</td>\n",
              "      <td>...</td>\n",
              "      <td>...</td>\n",
              "      <td>...</td>\n",
              "    </tr>\n",
              "    <tr>\n",
              "      <th>956211</th>\n",
              "      <td>2021-01-22</td>\n",
              "      <td>Sweetwater</td>\n",
              "      <td>Wyoming</td>\n",
              "      <td>3384</td>\n",
              "      <td>30.0</td>\n",
              "    </tr>\n",
              "    <tr>\n",
              "      <th>956212</th>\n",
              "      <td>2021-01-22</td>\n",
              "      <td>Teton</td>\n",
              "      <td>Wyoming</td>\n",
              "      <td>2870</td>\n",
              "      <td>5.0</td>\n",
              "    </tr>\n",
              "    <tr>\n",
              "      <th>956213</th>\n",
              "      <td>2021-01-22</td>\n",
              "      <td>Uinta</td>\n",
              "      <td>Wyoming</td>\n",
              "      <td>1887</td>\n",
              "      <td>12.0</td>\n",
              "    </tr>\n",
              "    <tr>\n",
              "      <th>956214</th>\n",
              "      <td>2021-01-22</td>\n",
              "      <td>Washakie</td>\n",
              "      <td>Wyoming</td>\n",
              "      <td>852</td>\n",
              "      <td>25.0</td>\n",
              "    </tr>\n",
              "    <tr>\n",
              "      <th>956215</th>\n",
              "      <td>2021-01-22</td>\n",
              "      <td>Weston</td>\n",
              "      <td>Wyoming</td>\n",
              "      <td>609</td>\n",
              "      <td>4.0</td>\n",
              "    </tr>\n",
              "  </tbody>\n",
              "</table>\n",
              "<p>956216 rows × 5 columns</p>\n",
              "</div>"
            ],
            "text/plain": [
              "             date      county       state  cases  deaths\n",
              "0      2020-01-21   Snohomish  Washington      1     0.0\n",
              "1      2020-01-22   Snohomish  Washington      1     0.0\n",
              "2      2020-01-23   Snohomish  Washington      1     0.0\n",
              "3      2020-01-24        Cook    Illinois      1     0.0\n",
              "4      2020-01-24   Snohomish  Washington      1     0.0\n",
              "...           ...         ...         ...    ...     ...\n",
              "956211 2021-01-22  Sweetwater     Wyoming   3384    30.0\n",
              "956212 2021-01-22       Teton     Wyoming   2870     5.0\n",
              "956213 2021-01-22       Uinta     Wyoming   1887    12.0\n",
              "956214 2021-01-22    Washakie     Wyoming    852    25.0\n",
              "956215 2021-01-22      Weston     Wyoming    609     4.0\n",
              "\n",
              "[956216 rows x 5 columns]"
            ]
          },
          "metadata": {
            "tags": []
          },
          "execution_count": 7
        }
      ]
    },
    {
      "cell_type": "code",
      "metadata": {
        "colab": {
          "base_uri": "https://localhost:8080/"
        },
        "id": "4NYrYgcSu-v7",
        "outputId": "eb427a36-6608-4bfc-b657-3a2c6e629470"
      },
      "source": [
        "#Checking that the changes were made\r\n",
        "df.info()"
      ],
      "execution_count": 31,
      "outputs": [
        {
          "output_type": "stream",
          "text": [
            "<class 'pandas.core.frame.DataFrame'>\n",
            "Int64Index: 926829 entries, 0 to 956215\n",
            "Data columns (total 6 columns):\n",
            " #   Column  Non-Null Count   Dtype         \n",
            "---  ------  --------------   -----         \n",
            " 0   date    926829 non-null  datetime64[ns]\n",
            " 1   county  926829 non-null  object        \n",
            " 2   state   926829 non-null  object        \n",
            " 3   fips    926829 non-null  float64       \n",
            " 4   cases   926829 non-null  int64         \n",
            " 5   deaths  926829 non-null  float64       \n",
            "dtypes: datetime64[ns](1), float64(2), int64(1), object(2)\n",
            "memory usage: 49.5+ MB\n"
          ],
          "name": "stdout"
        }
      ]
    },
    {
      "cell_type": "code",
      "metadata": {
        "colab": {
          "base_uri": "https://localhost:8080/"
        },
        "id": "t_lDIcL500Lc",
        "outputId": "bc0e27d0-245f-4c1b-903d-3cd32aceaa7b"
      },
      "source": [
        "#Shape of the data\r\n",
        "df.shape"
      ],
      "execution_count": 9,
      "outputs": [
        {
          "output_type": "execute_result",
          "data": {
            "text/plain": [
              "(956216, 6)"
            ]
          },
          "metadata": {
            "tags": []
          },
          "execution_count": 9
        }
      ]
    },
    {
      "cell_type": "code",
      "metadata": {
        "colab": {
          "base_uri": "https://localhost:8080/"
        },
        "id": "MEr8GCn_1VRp",
        "outputId": "09b6cffa-dca0-4c77-9fc2-05afe0b3fc15"
      },
      "source": [
        "#Check if there are null values in the data\r\n",
        "df.isnull().sum()"
      ],
      "execution_count": 10,
      "outputs": [
        {
          "output_type": "execute_result",
          "data": {
            "text/plain": [
              "date          0\n",
              "county        0\n",
              "state         0\n",
              "fips       8910\n",
              "cases         0\n",
              "deaths    20477\n",
              "dtype: int64"
            ]
          },
          "metadata": {
            "tags": []
          },
          "execution_count": 10
        }
      ]
    },
    {
      "cell_type": "code",
      "metadata": {
        "colab": {
          "base_uri": "https://localhost:8080/",
          "height": 49
        },
        "id": "KPF_1tVK11cg",
        "outputId": "ac0dbce4-2d28-4855-a94e-2349aca25a28"
      },
      "source": [
        "#There are multiple NaN values in the deaths columns\r\n",
        "df[df['deaths'].isnull()]"
      ],
      "execution_count": 32,
      "outputs": [
        {
          "output_type": "execute_result",
          "data": {
            "text/html": [
              "<div>\n",
              "<style scoped>\n",
              "    .dataframe tbody tr th:only-of-type {\n",
              "        vertical-align: middle;\n",
              "    }\n",
              "\n",
              "    .dataframe tbody tr th {\n",
              "        vertical-align: top;\n",
              "    }\n",
              "\n",
              "    .dataframe thead th {\n",
              "        text-align: right;\n",
              "    }\n",
              "</style>\n",
              "<table border=\"1\" class=\"dataframe\">\n",
              "  <thead>\n",
              "    <tr style=\"text-align: right;\">\n",
              "      <th></th>\n",
              "      <th>date</th>\n",
              "      <th>county</th>\n",
              "      <th>state</th>\n",
              "      <th>fips</th>\n",
              "      <th>cases</th>\n",
              "      <th>deaths</th>\n",
              "    </tr>\n",
              "  </thead>\n",
              "  <tbody>\n",
              "  </tbody>\n",
              "</table>\n",
              "</div>"
            ],
            "text/plain": [
              "Empty DataFrame\n",
              "Columns: [date, county, state, fips, cases, deaths]\n",
              "Index: []"
            ]
          },
          "metadata": {
            "tags": []
          },
          "execution_count": 32
        }
      ]
    },
    {
      "cell_type": "code",
      "metadata": {
        "colab": {
          "base_uri": "https://localhost:8080/",
          "height": 423
        },
        "id": "E9GGEhVZ2Vec",
        "outputId": "dea81e97-d9a8-4807-fd84-9d265ff8b1b4"
      },
      "source": [
        "#There are multiple NaN values in the cases column\r\n",
        "df[df['fips'].isnull()]"
      ],
      "execution_count": 12,
      "outputs": [
        {
          "output_type": "execute_result",
          "data": {
            "text/html": [
              "<div>\n",
              "<style scoped>\n",
              "    .dataframe tbody tr th:only-of-type {\n",
              "        vertical-align: middle;\n",
              "    }\n",
              "\n",
              "    .dataframe tbody tr th {\n",
              "        vertical-align: top;\n",
              "    }\n",
              "\n",
              "    .dataframe thead th {\n",
              "        text-align: right;\n",
              "    }\n",
              "</style>\n",
              "<table border=\"1\" class=\"dataframe\">\n",
              "  <thead>\n",
              "    <tr style=\"text-align: right;\">\n",
              "      <th></th>\n",
              "      <th>date</th>\n",
              "      <th>county</th>\n",
              "      <th>state</th>\n",
              "      <th>fips</th>\n",
              "      <th>cases</th>\n",
              "      <th>deaths</th>\n",
              "    </tr>\n",
              "  </thead>\n",
              "  <tbody>\n",
              "    <tr>\n",
              "      <th>416</th>\n",
              "      <td>2020-03-01</td>\n",
              "      <td>New York City</td>\n",
              "      <td>New York</td>\n",
              "      <td>NaN</td>\n",
              "      <td>1</td>\n",
              "      <td>0.0</td>\n",
              "    </tr>\n",
              "    <tr>\n",
              "      <th>418</th>\n",
              "      <td>2020-03-01</td>\n",
              "      <td>Unknown</td>\n",
              "      <td>Rhode Island</td>\n",
              "      <td>NaN</td>\n",
              "      <td>2</td>\n",
              "      <td>0.0</td>\n",
              "    </tr>\n",
              "    <tr>\n",
              "      <th>448</th>\n",
              "      <td>2020-03-02</td>\n",
              "      <td>New York City</td>\n",
              "      <td>New York</td>\n",
              "      <td>NaN</td>\n",
              "      <td>1</td>\n",
              "      <td>0.0</td>\n",
              "    </tr>\n",
              "    <tr>\n",
              "      <th>450</th>\n",
              "      <td>2020-03-02</td>\n",
              "      <td>Unknown</td>\n",
              "      <td>Rhode Island</td>\n",
              "      <td>NaN</td>\n",
              "      <td>2</td>\n",
              "      <td>0.0</td>\n",
              "    </tr>\n",
              "    <tr>\n",
              "      <th>482</th>\n",
              "      <td>2020-03-03</td>\n",
              "      <td>New York City</td>\n",
              "      <td>New York</td>\n",
              "      <td>NaN</td>\n",
              "      <td>2</td>\n",
              "      <td>0.0</td>\n",
              "    </tr>\n",
              "    <tr>\n",
              "      <th>...</th>\n",
              "      <td>...</td>\n",
              "      <td>...</td>\n",
              "      <td>...</td>\n",
              "      <td>...</td>\n",
              "      <td>...</td>\n",
              "      <td>...</td>\n",
              "    </tr>\n",
              "    <tr>\n",
              "      <th>955370</th>\n",
              "      <td>2021-01-22</td>\n",
              "      <td>Unknown</td>\n",
              "      <td>Puerto Rico</td>\n",
              "      <td>NaN</td>\n",
              "      <td>4171</td>\n",
              "      <td>1761.0</td>\n",
              "    </tr>\n",
              "    <tr>\n",
              "      <th>955382</th>\n",
              "      <td>2021-01-22</td>\n",
              "      <td>Unknown</td>\n",
              "      <td>Rhode Island</td>\n",
              "      <td>NaN</td>\n",
              "      <td>12533</td>\n",
              "      <td>74.0</td>\n",
              "    </tr>\n",
              "    <tr>\n",
              "      <th>955583</th>\n",
              "      <td>2021-01-22</td>\n",
              "      <td>Unknown</td>\n",
              "      <td>Tennessee</td>\n",
              "      <td>NaN</td>\n",
              "      <td>12899</td>\n",
              "      <td>120.0</td>\n",
              "    </tr>\n",
              "    <tr>\n",
              "      <th>955870</th>\n",
              "      <td>2021-01-22</td>\n",
              "      <td>Unknown</td>\n",
              "      <td>Utah</td>\n",
              "      <td>NaN</td>\n",
              "      <td>1406</td>\n",
              "      <td>4.0</td>\n",
              "    </tr>\n",
              "    <tr>\n",
              "      <th>955887</th>\n",
              "      <td>2021-01-22</td>\n",
              "      <td>Unknown</td>\n",
              "      <td>Vermont</td>\n",
              "      <td>NaN</td>\n",
              "      <td>8</td>\n",
              "      <td>0.0</td>\n",
              "    </tr>\n",
              "  </tbody>\n",
              "</table>\n",
              "<p>8910 rows × 6 columns</p>\n",
              "</div>"
            ],
            "text/plain": [
              "             date         county         state  fips  cases  deaths\n",
              "416    2020-03-01  New York City      New York   NaN      1     0.0\n",
              "418    2020-03-01        Unknown  Rhode Island   NaN      2     0.0\n",
              "448    2020-03-02  New York City      New York   NaN      1     0.0\n",
              "450    2020-03-02        Unknown  Rhode Island   NaN      2     0.0\n",
              "482    2020-03-03  New York City      New York   NaN      2     0.0\n",
              "...           ...            ...           ...   ...    ...     ...\n",
              "955370 2021-01-22        Unknown   Puerto Rico   NaN   4171  1761.0\n",
              "955382 2021-01-22        Unknown  Rhode Island   NaN  12533    74.0\n",
              "955583 2021-01-22        Unknown     Tennessee   NaN  12899   120.0\n",
              "955870 2021-01-22        Unknown          Utah   NaN   1406     4.0\n",
              "955887 2021-01-22        Unknown       Vermont   NaN      8     0.0\n",
              "\n",
              "[8910 rows x 6 columns]"
            ]
          },
          "metadata": {
            "tags": []
          },
          "execution_count": 12
        }
      ]
    },
    {
      "cell_type": "code",
      "metadata": {
        "colab": {
          "base_uri": "https://localhost:8080/",
          "height": 423
        },
        "id": "wEO_nq5VDOLP",
        "outputId": "e3ed72ca-d265-4c03-dc37-f3bc404361b8"
      },
      "source": [
        "#There are 7962 county where the name is unknown\r\n",
        "df[df['county'] == 'Unknown']"
      ],
      "execution_count": 13,
      "outputs": [
        {
          "output_type": "execute_result",
          "data": {
            "text/html": [
              "<div>\n",
              "<style scoped>\n",
              "    .dataframe tbody tr th:only-of-type {\n",
              "        vertical-align: middle;\n",
              "    }\n",
              "\n",
              "    .dataframe tbody tr th {\n",
              "        vertical-align: top;\n",
              "    }\n",
              "\n",
              "    .dataframe thead th {\n",
              "        text-align: right;\n",
              "    }\n",
              "</style>\n",
              "<table border=\"1\" class=\"dataframe\">\n",
              "  <thead>\n",
              "    <tr style=\"text-align: right;\">\n",
              "      <th></th>\n",
              "      <th>date</th>\n",
              "      <th>county</th>\n",
              "      <th>state</th>\n",
              "      <th>fips</th>\n",
              "      <th>cases</th>\n",
              "      <th>deaths</th>\n",
              "    </tr>\n",
              "  </thead>\n",
              "  <tbody>\n",
              "    <tr>\n",
              "      <th>418</th>\n",
              "      <td>2020-03-01</td>\n",
              "      <td>Unknown</td>\n",
              "      <td>Rhode Island</td>\n",
              "      <td>NaN</td>\n",
              "      <td>2</td>\n",
              "      <td>0.0</td>\n",
              "    </tr>\n",
              "    <tr>\n",
              "      <th>450</th>\n",
              "      <td>2020-03-02</td>\n",
              "      <td>Unknown</td>\n",
              "      <td>Rhode Island</td>\n",
              "      <td>NaN</td>\n",
              "      <td>2</td>\n",
              "      <td>0.0</td>\n",
              "    </tr>\n",
              "    <tr>\n",
              "      <th>485</th>\n",
              "      <td>2020-03-03</td>\n",
              "      <td>Unknown</td>\n",
              "      <td>Rhode Island</td>\n",
              "      <td>NaN</td>\n",
              "      <td>2</td>\n",
              "      <td>0.0</td>\n",
              "    </tr>\n",
              "    <tr>\n",
              "      <th>522</th>\n",
              "      <td>2020-03-04</td>\n",
              "      <td>Unknown</td>\n",
              "      <td>Rhode Island</td>\n",
              "      <td>NaN</td>\n",
              "      <td>2</td>\n",
              "      <td>0.0</td>\n",
              "    </tr>\n",
              "    <tr>\n",
              "      <th>569</th>\n",
              "      <td>2020-03-05</td>\n",
              "      <td>Unknown</td>\n",
              "      <td>Rhode Island</td>\n",
              "      <td>NaN</td>\n",
              "      <td>2</td>\n",
              "      <td>0.0</td>\n",
              "    </tr>\n",
              "    <tr>\n",
              "      <th>...</th>\n",
              "      <td>...</td>\n",
              "      <td>...</td>\n",
              "      <td>...</td>\n",
              "      <td>...</td>\n",
              "      <td>...</td>\n",
              "      <td>...</td>\n",
              "    </tr>\n",
              "    <tr>\n",
              "      <th>955370</th>\n",
              "      <td>2021-01-22</td>\n",
              "      <td>Unknown</td>\n",
              "      <td>Puerto Rico</td>\n",
              "      <td>NaN</td>\n",
              "      <td>4171</td>\n",
              "      <td>1761.0</td>\n",
              "    </tr>\n",
              "    <tr>\n",
              "      <th>955382</th>\n",
              "      <td>2021-01-22</td>\n",
              "      <td>Unknown</td>\n",
              "      <td>Rhode Island</td>\n",
              "      <td>NaN</td>\n",
              "      <td>12533</td>\n",
              "      <td>74.0</td>\n",
              "    </tr>\n",
              "    <tr>\n",
              "      <th>955583</th>\n",
              "      <td>2021-01-22</td>\n",
              "      <td>Unknown</td>\n",
              "      <td>Tennessee</td>\n",
              "      <td>NaN</td>\n",
              "      <td>12899</td>\n",
              "      <td>120.0</td>\n",
              "    </tr>\n",
              "    <tr>\n",
              "      <th>955870</th>\n",
              "      <td>2021-01-22</td>\n",
              "      <td>Unknown</td>\n",
              "      <td>Utah</td>\n",
              "      <td>NaN</td>\n",
              "      <td>1406</td>\n",
              "      <td>4.0</td>\n",
              "    </tr>\n",
              "    <tr>\n",
              "      <th>955887</th>\n",
              "      <td>2021-01-22</td>\n",
              "      <td>Unknown</td>\n",
              "      <td>Vermont</td>\n",
              "      <td>NaN</td>\n",
              "      <td>8</td>\n",
              "      <td>0.0</td>\n",
              "    </tr>\n",
              "  </tbody>\n",
              "</table>\n",
              "<p>8061 rows × 6 columns</p>\n",
              "</div>"
            ],
            "text/plain": [
              "             date   county         state  fips  cases  deaths\n",
              "418    2020-03-01  Unknown  Rhode Island   NaN      2     0.0\n",
              "450    2020-03-02  Unknown  Rhode Island   NaN      2     0.0\n",
              "485    2020-03-03  Unknown  Rhode Island   NaN      2     0.0\n",
              "522    2020-03-04  Unknown  Rhode Island   NaN      2     0.0\n",
              "569    2020-03-05  Unknown  Rhode Island   NaN      2     0.0\n",
              "...           ...      ...           ...   ...    ...     ...\n",
              "955370 2021-01-22  Unknown   Puerto Rico   NaN   4171  1761.0\n",
              "955382 2021-01-22  Unknown  Rhode Island   NaN  12533    74.0\n",
              "955583 2021-01-22  Unknown     Tennessee   NaN  12899   120.0\n",
              "955870 2021-01-22  Unknown          Utah   NaN   1406     4.0\n",
              "955887 2021-01-22  Unknown       Vermont   NaN      8     0.0\n",
              "\n",
              "[8061 rows x 6 columns]"
            ]
          },
          "metadata": {
            "tags": []
          },
          "execution_count": 13
        }
      ]
    },
    {
      "cell_type": "markdown",
      "metadata": {
        "id": "tLt3Fd9FEdM9"
      },
      "source": [
        "We are going to remove all the data with unknown information, or NaN values."
      ]
    },
    {
      "cell_type": "code",
      "metadata": {
        "id": "p9Ami-OuJyJF"
      },
      "source": [
        "df = df.dropna(axis=0, how='any')"
      ],
      "execution_count": 14,
      "outputs": []
    },
    {
      "cell_type": "markdown",
      "metadata": {
        "id": "4GXCpkYMKqUk"
      },
      "source": [
        "Making sure that all three columns with possible NaN values are empty of null rows"
      ]
    },
    {
      "cell_type": "code",
      "metadata": {
        "colab": {
          "base_uri": "https://localhost:8080/",
          "height": 49
        },
        "id": "N8_oYaNmKQcJ",
        "outputId": "b68bf851-c4a0-4b36-cb9b-f6607933ea13"
      },
      "source": [
        "df[df['deaths'] == 'NaN']"
      ],
      "execution_count": 15,
      "outputs": [
        {
          "output_type": "execute_result",
          "data": {
            "text/html": [
              "<div>\n",
              "<style scoped>\n",
              "    .dataframe tbody tr th:only-of-type {\n",
              "        vertical-align: middle;\n",
              "    }\n",
              "\n",
              "    .dataframe tbody tr th {\n",
              "        vertical-align: top;\n",
              "    }\n",
              "\n",
              "    .dataframe thead th {\n",
              "        text-align: right;\n",
              "    }\n",
              "</style>\n",
              "<table border=\"1\" class=\"dataframe\">\n",
              "  <thead>\n",
              "    <tr style=\"text-align: right;\">\n",
              "      <th></th>\n",
              "      <th>date</th>\n",
              "      <th>county</th>\n",
              "      <th>state</th>\n",
              "      <th>fips</th>\n",
              "      <th>cases</th>\n",
              "      <th>deaths</th>\n",
              "    </tr>\n",
              "  </thead>\n",
              "  <tbody>\n",
              "  </tbody>\n",
              "</table>\n",
              "</div>"
            ],
            "text/plain": [
              "Empty DataFrame\n",
              "Columns: [date, county, state, fips, cases, deaths]\n",
              "Index: []"
            ]
          },
          "metadata": {
            "tags": []
          },
          "execution_count": 15
        }
      ]
    },
    {
      "cell_type": "code",
      "metadata": {
        "colab": {
          "base_uri": "https://localhost:8080/",
          "height": 49
        },
        "id": "dw_EmQ6uKksV",
        "outputId": "2a0e4221-e7e1-4a1e-a994-12b6bcf8c4b5"
      },
      "source": [
        "df[df['fips'] == 'NaN']"
      ],
      "execution_count": 16,
      "outputs": [
        {
          "output_type": "execute_result",
          "data": {
            "text/html": [
              "<div>\n",
              "<style scoped>\n",
              "    .dataframe tbody tr th:only-of-type {\n",
              "        vertical-align: middle;\n",
              "    }\n",
              "\n",
              "    .dataframe tbody tr th {\n",
              "        vertical-align: top;\n",
              "    }\n",
              "\n",
              "    .dataframe thead th {\n",
              "        text-align: right;\n",
              "    }\n",
              "</style>\n",
              "<table border=\"1\" class=\"dataframe\">\n",
              "  <thead>\n",
              "    <tr style=\"text-align: right;\">\n",
              "      <th></th>\n",
              "      <th>date</th>\n",
              "      <th>county</th>\n",
              "      <th>state</th>\n",
              "      <th>fips</th>\n",
              "      <th>cases</th>\n",
              "      <th>deaths</th>\n",
              "    </tr>\n",
              "  </thead>\n",
              "  <tbody>\n",
              "  </tbody>\n",
              "</table>\n",
              "</div>"
            ],
            "text/plain": [
              "Empty DataFrame\n",
              "Columns: [date, county, state, fips, cases, deaths]\n",
              "Index: []"
            ]
          },
          "metadata": {
            "tags": []
          },
          "execution_count": 16
        }
      ]
    },
    {
      "cell_type": "code",
      "metadata": {
        "colab": {
          "base_uri": "https://localhost:8080/",
          "height": 49
        },
        "id": "V8lNXQsBKlCz",
        "outputId": "34c99e56-e006-431d-fb5f-775d06f66f54"
      },
      "source": [
        "df[df['county'] == 'Unknown']"
      ],
      "execution_count": 17,
      "outputs": [
        {
          "output_type": "execute_result",
          "data": {
            "text/html": [
              "<div>\n",
              "<style scoped>\n",
              "    .dataframe tbody tr th:only-of-type {\n",
              "        vertical-align: middle;\n",
              "    }\n",
              "\n",
              "    .dataframe tbody tr th {\n",
              "        vertical-align: top;\n",
              "    }\n",
              "\n",
              "    .dataframe thead th {\n",
              "        text-align: right;\n",
              "    }\n",
              "</style>\n",
              "<table border=\"1\" class=\"dataframe\">\n",
              "  <thead>\n",
              "    <tr style=\"text-align: right;\">\n",
              "      <th></th>\n",
              "      <th>date</th>\n",
              "      <th>county</th>\n",
              "      <th>state</th>\n",
              "      <th>fips</th>\n",
              "      <th>cases</th>\n",
              "      <th>deaths</th>\n",
              "    </tr>\n",
              "  </thead>\n",
              "  <tbody>\n",
              "  </tbody>\n",
              "</table>\n",
              "</div>"
            ],
            "text/plain": [
              "Empty DataFrame\n",
              "Columns: [date, county, state, fips, cases, deaths]\n",
              "Index: []"
            ]
          },
          "metadata": {
            "tags": []
          },
          "execution_count": 17
        }
      ]
    },
    {
      "cell_type": "code",
      "metadata": {
        "colab": {
          "base_uri": "https://localhost:8080/"
        },
        "id": "tEtsMkv4KxZ-",
        "outputId": "ef30d759-1353-4a89-e8a3-0b34bd2dc3c0"
      },
      "source": [
        "#Making sure that we didn't drop any columns by mistake\r\n",
        "df.info()"
      ],
      "execution_count": 18,
      "outputs": [
        {
          "output_type": "stream",
          "text": [
            "<class 'pandas.core.frame.DataFrame'>\n",
            "Int64Index: 926829 entries, 0 to 956215\n",
            "Data columns (total 6 columns):\n",
            " #   Column  Non-Null Count   Dtype         \n",
            "---  ------  --------------   -----         \n",
            " 0   date    926829 non-null  datetime64[ns]\n",
            " 1   county  926829 non-null  object        \n",
            " 2   state   926829 non-null  object        \n",
            " 3   fips    926829 non-null  float64       \n",
            " 4   cases   926829 non-null  int64         \n",
            " 5   deaths  926829 non-null  float64       \n",
            "dtypes: datetime64[ns](1), float64(2), int64(1), object(2)\n",
            "memory usage: 49.5+ MB\n"
          ],
          "name": "stdout"
        }
      ]
    },
    {
      "cell_type": "markdown",
      "metadata": {
        "id": "TwPF_RyaLSYi"
      },
      "source": [
        "#  EDA (Exploratory Data Analysis)"
      ]
    },
    {
      "cell_type": "markdown",
      "metadata": {
        "id": "WCvF1xx0LtSn"
      },
      "source": [
        "What are the counties with the most amount of cases?"
      ]
    },
    {
      "cell_type": "code",
      "metadata": {
        "id": "nYt7wZE-WkJ3"
      },
      "source": [
        "#Getting all the different counties but making sure that the list doens't have \r\n",
        "#any repeated items\r\n",
        "counties = df.county.unique()\r\n",
        "cases_per_county = {}\r\n",
        "#We go through the list and add all the values together that match the county\r\n",
        "for x in counties:\r\n",
        "  amountOfCases = df.loc[df['county'] == x, 'cases'].sum()\r\n",
        "  cases_per_county[x] = amountOfCases\r\n",
        "#Then we create a dictionary where the cases are stored with the name of the county for easy access to the information"
      ],
      "execution_count": 19,
      "outputs": []
    },
    {
      "cell_type": "code",
      "metadata": {
        "colab": {
          "base_uri": "https://localhost:8080/"
        },
        "id": "zeoKOTXMQHiG",
        "outputId": "529b347d-caec-43ae-bce5-ff447900d774"
      },
      "source": [
        "#We find the top 10 counties by sorting the dictionary and geting a list of all the name of the counties\r\n",
        "#depending on how many cases they have. When we now have the names, we just pass them\r\n",
        "#them to the dictionary, and that way we get the values.\r\n",
        "top_10_counties = sorted(cases_per_county, key=cases_per_county.get, reverse=True)[:10]\r\n",
        "print('The counties with the most amount of cases are: ')\r\n",
        "for x in top_10_counties:\r\n",
        "  print(f'{x} : {cases_per_county[x]}')"
      ],
      "execution_count": 20,
      "outputs": [
        {
          "output_type": "stream",
          "text": [
            "The counties with the most amount of cases are: \n",
            "Los Angeles : 80522386\n",
            "Cook : 48786665\n",
            "Miami-Dade : 40278566\n",
            "Maricopa : 38695377\n",
            "Harris : 31882661\n",
            "Orange : 31443166\n",
            "Jefferson : 25759341\n",
            "Dallas : 24205010\n",
            "Suffolk : 23134184\n",
            "Clark : 22393004\n"
          ],
          "name": "stdout"
        }
      ]
    },
    {
      "cell_type": "code",
      "metadata": {
        "colab": {
          "base_uri": "https://localhost:8080/",
          "height": 664
        },
        "id": "K9GY450Gm1ei",
        "outputId": "477c7ce2-4d4f-4ab1-88df-1125703153f9"
      },
      "source": [
        "#We use the sorted function to make sure that we have all the values sorted\r\n",
        "#so we can later on plot with the information.\r\n",
        "sortedList = sorted(cases_per_county.items(), key = lambda kv:(kv[1], kv[0]), reverse = True)\r\n",
        "sorted_counties = sortedList[:10]\r\n",
        "listCases = []\r\n",
        "listCounties = []\r\n",
        "fig, ax = plt.subplots(figsize=(14,10))\r\n",
        "for x in range(10):\r\n",
        "  listCases.append(sorted_counties[x][1])\r\n",
        "  listCounties.append(sorted_counties[x][0])\r\n",
        "plt.bar(listCounties, listCases, width=1)\r\n",
        "ax.set_ylabel('Millions')\r\n",
        "ax.set_title(\"Top 10 counties with the most cases\")\r\n",
        "plt.show()\r\n",
        "print(\"This graph shows the 10 counties with the most amount of cases \\nLos Angeles is close to the 8 million cases, there needs to be increased security measurements.\")\r\n",
        "print(\"The other counties have similar numbers.\")"
      ],
      "execution_count": 34,
      "outputs": [
        {
          "output_type": "display_data",
          "data": {
            "image/png": "[encoded data removed]",
            "text/plain": [
              "<Figure size 1008x720 with 1 Axes>"
            ]
          },
          "metadata": {
            "tags": [],
            "needs_background": "light"
          }
        },
        {
          "output_type": "stream",
          "text": [
            "This graph shows the 10 counties with the most amount of cases \n",
            "Los Angeles is close to the 8 million cases, there needs to be increased security measurements.\n",
            "The other counties have similar numbers.\n"
          ],
          "name": "stdout"
        }
      ]
    },
    {
      "cell_type": "markdown",
      "metadata": {
        "id": "_I_usOGASC-0"
      },
      "source": [
        "What are the states with the most amount of cases?"
      ]
    },
    {
      "cell_type": "code",
      "metadata": {
        "id": "9s4m6Q9QSFte"
      },
      "source": [
        "#we get the different states by going through the column and using the method unique()\r\n",
        "states = df.state.unique()\r\n",
        "cases_per_state = {} #A dictionary that stores all the states with their amount of cases\r\n",
        "for x in states:\r\n",
        "  amountOfCasesState = df.loc[df['state'] == x, 'cases'].sum() #We do the same process to match the county with all the possible rows and sum all of them\r\n",
        "  cases_per_state[x] = amountOfCasesState"
      ],
      "execution_count": 22,
      "outputs": []
    },
    {
      "cell_type": "code",
      "metadata": {
        "colab": {
          "base_uri": "https://localhost:8080/"
        },
        "id": "5k8rSDhQSiT4",
        "outputId": "410e94a3-9069-4275-cb0f-5a7f4321b1d2"
      },
      "source": [
        "#We find the top 10 states by sorting the dictionary and geting a list of all the name of the states\r\n",
        "#depending on how many cases they have. When we now have the names, we just pass them\r\n",
        "#them to the dictionary, and that way we get the values.\r\n",
        "top_10_states = sorted(cases_per_state, key=cases_per_state.get, reverse=True)[:10]\r\n",
        "print('The states with the most amount of cases are: ')\r\n",
        "for x in top_10_states:\r\n",
        "  print(f'{x} : {cases_per_state[x]}') #Print the keys and values from the dictionary"
      ],
      "execution_count": 23,
      "outputs": [
        {
          "output_type": "stream",
          "text": [
            "The states with the most amount of cases are: \n",
            "California : 236034793\n",
            "Texas : 204316111\n",
            "Florida : 170528384\n",
            "Illinois : 104613726\n",
            "Georgia : 77912858\n",
            "New York : 74750256\n",
            "New Jersey : 70039597\n",
            "Pennsylvania : 63394615\n",
            "Ohio : 62150180\n",
            "Arizona : 60948665\n"
          ],
          "name": "stdout"
        }
      ]
    },
    {
      "cell_type": "code",
      "metadata": {
        "colab": {
          "base_uri": "https://localhost:8080/",
          "height": 664
        },
        "id": "FBZbu_sKTiRq",
        "outputId": "3d6d9f1e-14ea-4257-d8c1-892fba153363"
      },
      "source": [
        "#We use the sorted function to make sure that we have all the values sorted\r\n",
        "#so we can later on plot with the information.\r\n",
        "sortedStatesList = sorted(cases_per_state.items(), key = lambda kv:(kv[1], kv[0]), reverse = True)\r\n",
        "sorted_states = sortedStatesList[:10]\r\n",
        "listCases1 = []\r\n",
        "listStates = []\r\n",
        "fig, ax = plt.subplots(figsize=(14,10)) #Definind the size of the figure\r\n",
        "for x in range(10):\r\n",
        "  listCases1.append(sorted_states[x][1])\r\n",
        "  listStates.append(sorted_states[x][0]) #Adding the cases and name of the states to the different lists\r\n",
        "plt.bar(listStates, listCases1, width=1)\r\n",
        "ax.set_ylabel('Millions')\r\n",
        "ax.set_title(\"Top 10 counties with the most cases\")\r\n",
        "plt.show()\r\n",
        "print(\"This graph shows the 10 states with the most amount of cases \\nCalifornia is close to the 226 million cases, and behind there is Texas getting close to 200 million cases which shows the need for increased security measurements.\")\r\n",
        "print(\"The other states have similar numbers.\")"
      ],
      "execution_count": 33,
      "outputs": [
        {
          "output_type": "display_data",
          "data": {
            "image/png": "[encoded data removed]",
            "text/plain": [
              "<Figure size 1008x720 with 1 Axes>"
            ]
          },
          "metadata": {
            "tags": [],
            "needs_background": "light"
          }
        },
        {
          "output_type": "stream",
          "text": [
            "This graph shows the 10 states with the most amount of cases \n",
            "California is close to the 226 million cases, and behind there is Texas getting close to 200 million cases which shows the need for increased security measurements.\n",
            "The other states have similar numbers.\n"
          ],
          "name": "stdout"
        }
      ]
    },
    {
      "cell_type": "markdown",
      "metadata": {
        "id": "xs2V1_pGU6Z1"
      },
      "source": [
        "Filtering data for a particular state"
      ]
    },
    {
      "cell_type": "code",
      "metadata": {
        "colab": {
          "base_uri": "https://localhost:8080/"
        },
        "id": "Eoua6sUrU5gV",
        "outputId": "0d6964bc-0ff1-4f7e-c48e-4cc1c69c3705"
      },
      "source": [
        "#Based on the code used before, we already have the information in a dictionary of all the states and counties with their amount of cases\r\n",
        "#But we also want to know how many cases are in the state of California, and all of its counties:\r\n",
        "californiaCounties = df[df['state'] == 'California'].county.unique()\r\n",
        "print(f\"The amount of cases in California are: {cases_per_state['California']}\")\r\n",
        "print(\"The counties in California, with their respective amount of cases, are:\")\r\n",
        "for x in californiaCounties:\r\n",
        "  print(f'The amount of cases in {x} are: {cases_per_county[x]}')"
      ],
      "execution_count": 25,
      "outputs": [
        {
          "output_type": "stream",
          "text": [
            "The amount of cases in California are: 236034793\n",
            "The counties in California, with their respective amount of cases, are:\n",
            "The amount of cases in Orange are: 31443166\n",
            "The amount of cases in Los Angeles are: 80522386\n",
            "The amount of cases in Santa Clara are: 6532343\n",
            "The amount of cases in San Francisco are: 2883536\n",
            "The amount of cases in San Diego are: 15100221\n",
            "The amount of cases in Humboldt are: 316316\n",
            "The amount of cases in Sacramento are: 6328480\n",
            "The amount of cases in Solano are: 1887522\n",
            "The amount of cases in Marin are: 1484297\n",
            "The amount of cases in Napa are: 534450\n",
            "The amount of cases in Sonoma are: 2014448\n",
            "The amount of cases in Alameda are: 5672157\n",
            "The amount of cases in Placer are: 1189451\n",
            "The amount of cases in San Mateo are: 2730801\n",
            "The amount of cases in Contra Costa are: 4349989\n",
            "The amount of cases in Yolo are: 820027\n",
            "The amount of cases in Fresno are: 7070294\n",
            "The amount of cases in Madera are: 1109328\n",
            "The amount of cases in Riverside are: 17832748\n",
            "The amount of cases in Santa Cruz are: 1550451\n",
            "The amount of cases in Shasta are: 607019\n",
            "The amount of cases in San Joaquin are: 4994862\n",
            "The amount of cases in Ventura are: 3884730\n",
            "The amount of cases in Stanislaus are: 4159145\n",
            "The amount of cases in Tulare are: 3968400\n",
            "The amount of cases in San Benito are: 359328\n",
            "The amount of cases in San Luis Obispo are: 1073399\n",
            "The amount of cases in San Bernardino are: 17567089\n",
            "The amount of cases in Santa Barbara are: 2282239\n",
            "The amount of cases in Nevada are: 279664\n",
            "The amount of cases in Kern are: 7795014\n",
            "The amount of cases in Monterey are: 2723031\n",
            "The amount of cases in Mendocino are: 251456\n",
            "The amount of cases in Amador are: 147678\n",
            "The amount of cases in Imperial are: 3018175\n",
            "The amount of cases in Butte are: 795015\n",
            "The amount of cases in El Dorado are: 446448\n",
            "The amount of cases in Siskiyou are: 88279\n",
            "The amount of cases in Yuba are: 350377\n",
            "The amount of cases in Calaveras are: 97504\n",
            "The amount of cases in Merced are: 2140157\n",
            "The amount of cases in Mono are: 76626\n",
            "The amount of cases in Inyo are: 55725\n",
            "The amount of cases in Sutter are: 550255\n",
            "The amount of cases in Colusa are: 136098\n",
            "The amount of cases in Kings are: 1918320\n",
            "The amount of cases in Glenn are: 154182\n",
            "The amount of cases in Tuolumne are: 172949\n",
            "The amount of cases in Alpine are: 4365\n",
            "The amount of cases in Plumas are: 28775\n",
            "The amount of cases in Del Norte are: 59680\n",
            "The amount of cases in Tehama are: 241587\n",
            "The amount of cases in Lake are: 13419637\n",
            "The amount of cases in Mariposa are: 24571\n",
            "The amount of cases in Trinity are: 62194\n",
            "The amount of cases in Sierra are: 41944\n",
            "The amount of cases in Lassen are: 336224\n",
            "The amount of cases in Modoc are: 14875\n"
          ],
          "name": "stdout"
        }
      ]
    },
    {
      "cell_type": "markdown",
      "metadata": {
        "id": "GM8Pbdr_9dxw"
      },
      "source": [
        "The amount of cases and deaths in the 30 most recent days in the state of California are:"
      ]
    },
    {
      "cell_type": "code",
      "metadata": {
        "id": "ZNfdTXgzZTCZ"
      },
      "source": [
        "californiaRows = df[df['state'] == 'California'] #We find a smaller table where all the rows have in common the state (California)\r\n",
        "uniqueDaysCalifornia = df[df['state'] == 'California']['date'].unique() #We get the unique different dates, that way regardless of the county, we can count all the cases\r\n",
        "last30Days = uniqueDaysCalifornia[-30:] #Find the 30 latest days\r\n",
        "death_per_day = {}\r\n",
        "cases_per_day = {}\r\n",
        "for x in uniqueDaysCalifornia: #After creating the 2 dictionarys, we need to go through the dataframe and get the sum for each date of casea and deaths.\r\n",
        "  amountCasesPerDay = californiaRows.loc[californiaRows['date'] == x, 'cases'].sum()\r\n",
        "  amountDeathPerDay = californiaRows.loc[californiaRows['date'] == x, 'deaths'].sum()\r\n",
        "  cases_per_day[x] = amountCasesPerDay\r\n",
        "  death_per_day[x] = amountDeathPerDay"
      ],
      "execution_count": 26,
      "outputs": []
    },
    {
      "cell_type": "code",
      "metadata": {
        "id": "Kq8nUpuCZOrJ"
      },
      "source": [
        "#Getting the daily change for cases\r\n",
        "dailyChange = 0\r\n",
        "for y in cases_per_day:\r\n",
        "  if dailyChange == 0:\r\n",
        "    dailyChange = cases_per_day[y]\r\n",
        "    cases_per_day[y] = dailyChange\r\n",
        "  else:\r\n",
        "    dailyChange = cases_per_day[y] - dailyChange #We create a temporal variable so we can have the current total, so we can substract it later to find \r\n",
        "    temp = cases_per_day[y]                      #the daily change\r\n",
        "    cases_per_day[y] = dailyChange\r\n",
        "    dailyChange = temp\r\n",
        "\r\n",
        "#Getting the daily change for deaths\r\n",
        "dailyChange = 0\r\n",
        "for y in death_per_day:\r\n",
        "  if dailyChange == 0:\r\n",
        "    dailyChange = death_per_day[y]\r\n",
        "    death_per_day[y] = dailyChange\r\n",
        "  else:\r\n",
        "    dailyChange = death_per_day[y] - dailyChange\r\n",
        "    temp = death_per_day[y]\r\n",
        "    death_per_day[y] = dailyChange\r\n",
        "    dailyChange = temp"
      ],
      "execution_count": 27,
      "outputs": []
    },
    {
      "cell_type": "code",
      "metadata": {
        "colab": {
          "base_uri": "https://localhost:8080/"
        },
        "id": "sf0HS1oQ9hU6",
        "outputId": "4f7c6715-b166-4835-d1d9-fae2b17e4444"
      },
      "source": [
        "#With the calculation above, we found the daily changes of cases, so we can print them by their date.\r\n",
        "print(\"The amount of cases per day, in the last 30 days, in the state of California are: \")\r\n",
        "for x in last30Days:\r\n",
        "  year = pd.to_datetime(x).year\r\n",
        "  month = pd.to_datetime(x).month\r\n",
        "  day = pd.to_datetime(x).day\r\n",
        "  print(f'On {month}/{day}/{year} were {cases_per_day[x]} new cases & unfortunately {death_per_day[x]} Californians died from the virus.')"
      ],
      "execution_count": 28,
      "outputs": [
        {
          "output_type": "stream",
          "text": [
            "The amount of cases per day, in the last 30 days, in the state of California are: \n",
            "On 12/24/2020 were 34731 new cases & unfortunately 311.0 Californians died from the virus.\n",
            "On 12/25/2020 were 16772 new cases & unfortunately 20.0 Californians died from the virus.\n",
            "On 12/26/2020 were 64987 new cases & unfortunately 257.0 Californians died from the virus.\n",
            "On 12/27/2020 were 37555 new cases & unfortunately 62.0 Californians died from the virus.\n",
            "On 12/28/2020 were 41720 new cases & unfortunately 246.0 Californians died from the virus.\n",
            "On 12/29/2020 were 34166 new cases & unfortunately 425.0 Californians died from the virus.\n",
            "On 12/30/2020 were 32386 new cases & unfortunately 437.0 Californians died from the virus.\n",
            "On 12/31/2020 were 32264 new cases & unfortunately 574.0 Californians died from the virus.\n",
            "On 1/1/2021 were 37957 new cases & unfortunately 271.0 Californians died from the virus.\n",
            "On 1/2/2021 were 52197 new cases & unfortunately 306.0 Californians died from the virus.\n",
            "On 1/3/2021 were 35915 new cases & unfortunately 93.0 Californians died from the virus.\n",
            "On 1/4/2021 were 40723 new cases & unfortunately 360.0 Californians died from the virus.\n",
            "On 1/5/2021 were 37261 new cases & unfortunately 491.0 Californians died from the virus.\n",
            "On 1/6/2021 were 36672 new cases & unfortunately 554.0 Californians died from the virus.\n",
            "On 1/7/2021 were 40397 new cases & unfortunately 512.0 Californians died from the virus.\n",
            "On 1/8/2021 were 50923 new cases & unfortunately 674.0 Californians died from the virus.\n",
            "On 1/9/2021 were 47271 new cases & unfortunately 473.0 Californians died from the virus.\n",
            "On 1/10/2021 were 42440 new cases & unfortunately 301.0 Californians died from the virus.\n",
            "On 1/11/2021 were 40540 new cases & unfortunately 381.0 Californians died from the virus.\n",
            "On 1/12/2021 were 45868 new cases & unfortunately 724.0 Californians died from the virus.\n",
            "On 1/13/2021 were 41654 new cases & unfortunately 548.0 Californians died from the virus.\n",
            "On 1/14/2021 were 40684 new cases & unfortunately 593.0 Californians died from the virus.\n",
            "On 1/15/2021 were 39105 new cases & unfortunately 701.0 Californians died from the virus.\n",
            "On 1/16/2021 were 37590 new cases & unfortunately 446.0 Californians died from the virus.\n",
            "On 1/17/2021 were 31617 new cases & unfortunately 200.0 Californians died from the virus.\n",
            "On 1/18/2021 were 25424 new cases & unfortunately 149.0 Californians died from the virus.\n",
            "On 1/19/2021 were 39112 new cases & unfortunately 648.0 Californians died from the virus.\n",
            "On 1/20/2021 were 19220 new cases & unfortunately 611.0 Californians died from the virus.\n",
            "On 1/21/2021 were 25572 new cases & unfortunately 703.0 Californians died from the virus.\n",
            "On 1/22/2021 were 25017 new cases & unfortunately 622.0 Californians died from the virus.\n"
          ],
          "name": "stdout"
        }
      ]
    },
    {
      "cell_type": "markdown",
      "metadata": {
        "id": "zofZVx2uJhYn"
      },
      "source": [
        "Plotting the daily amount of new cases in California"
      ]
    },
    {
      "cell_type": "code",
      "metadata": {
        "colab": {
          "base_uri": "https://localhost:8080/",
          "height": 718
        },
        "id": "FHWr7IrWJg0Y",
        "outputId": "1c88a704-2f9a-40a8-9045-5826604d7aa5"
      },
      "source": [
        "#Plotting the informationm based on the calculation above.\r\n",
        "#We create three lists so we can better organize the data and make the process of plotting easier\r\n",
        "datesCalifornia = []\r\n",
        "casesCalifornia = []\r\n",
        "deathsCalifornia = []\r\n",
        "for x in last30Days:\r\n",
        "  datesCalifornia.append(str(pd.to_datetime(x).date()))\r\n",
        "for y in last30Days:\r\n",
        "  casesCalifornia.append(cases_per_day[y])\r\n",
        "  deathsCalifornia.append(death_per_day[y])\r\n",
        "fig, ax = plt.subplots(figsize=(24,10))\r\n",
        "plt.bar(datesCalifornia, casesCalifornia, width=1)\r\n",
        "plt.xticks(rotation='vertical')\r\n",
        "ax.set_ylabel('Amount of Cases')\r\n",
        "ax.set_title(\"Past 30 days, daily amount of cases\")\r\n",
        "plt.show()\r\n",
        "print(\"This graph shows the daily amount of new cases in the past 30 days in the state of California \")\r\n",
        "print('The graph shows that since the end of december, there have been efforts to keep the overall amount')\r\n",
        "print('of new cases stable, and after january 13th consistently decreasing.')"
      ],
      "execution_count": 35,
      "outputs": [
        {
          "output_type": "display_data",
          "data": {
            "image/png": "[encoded data removed]",
            "text/plain": [
              "<Figure size 1728x720 with 1 Axes>"
            ]
          },
          "metadata": {
            "tags": [],
            "needs_background": "light"
          }
        },
        {
          "output_type": "stream",
          "text": [
            "This graph shows the daily amount of new cases in the past 30 days in the state of California \n",
            "The graph shows that since the end of december, there have been efforts to keep the overall amount\n",
            "of new cases stable, and after january 13th consistently decreasing.\n"
          ],
          "name": "stdout"
        }
      ]
    },
    {
      "cell_type": "code",
      "metadata": {
        "colab": {
          "base_uri": "https://localhost:8080/",
          "height": 700
        },
        "id": "zpV4_P09hx3E",
        "outputId": "0fdf569a-82b0-41b4-abe9-006c88b5f5d1"
      },
      "source": [
        "fig, ax = plt.subplots(figsize=(24,10))\r\n",
        "plt.bar(datesCalifornia, deathsCalifornia, width =1)\r\n",
        "plt.xticks(rotation='vertical')\r\n",
        "ax.set_ylabel('Amount of deaths')\r\n",
        "ax.set_title(\"Past 30 days, daily amount of deaths\")\r\n",
        "plt.show()\r\n",
        "print(\"This graph shows the daily amount of deaths by the virus in the past 30 days in the state of California \")\r\n",
        "print(\"Unfortunately, the graph shows that the biggest peaks have been after the new year celebrations.\")"
      ],
      "execution_count": 36,
      "outputs": [
        {
          "output_type": "display_data",
          "data": {
            "image/png": "[encoded data removed]",
            "text/plain": [
              "<Figure size 1728x720 with 1 Axes>"
            ]
          },
          "metadata": {
            "tags": [],
            "needs_background": "light"
          }
        },
        {
          "output_type": "stream",
          "text": [
            "This graph shows the daily amount of deaths by the virus in the past 30 days in the state of California \n",
            "Unfortunately, the graph shows that the biggest peaks have been after the new year celebrations.\n"
          ],
          "name": "stdout"
        }
      ]
    },
    {
      "cell_type": "markdown",
      "metadata": {
        "id": "PTK5IkWIuuCk"
      },
      "source": [
        "Comparing Covid 19 data of California with New York state"
      ]
    },
    {
      "cell_type": "code",
      "metadata": {
        "id": "os9FNQnvZCWJ"
      },
      "source": [
        "#We need to find out about all the information in the New York state\r\n",
        "#corresponding to the past 30 daily new cases and deaths.\r\n",
        "newYorkRows = df[df['state'] == 'New York']\r\n",
        "newYorkRows.head()\r\n",
        "uniqueDaysNewYork = df[df['state'] == 'New York']['date'].unique()\r\n",
        "last30Days = uniqueDaysNewYork[-30:]\r\n",
        "death_per_day = {}\r\n",
        "cases_per_day = {}\r\n",
        "for x in uniqueDaysNewYork:\r\n",
        "  amountCasesPerDay = newYorkRows[newYorkRows['date'] == x]['cases'].sum()\r\n",
        "  amountDeathPerDay = newYorkRows.loc[newYorkRows['date'] == x, 'deaths'].sum()\r\n",
        "  cases_per_day[x] = amountCasesPerDay\r\n",
        "  death_per_day[x] = amountDeathPerDay"
      ],
      "execution_count": 37,
      "outputs": []
    },
    {
      "cell_type": "code",
      "metadata": {
        "id": "xzx70y7IZEcQ"
      },
      "source": [
        "#Getting the daily change for cases\r\n",
        "dailyChange = 0\r\n",
        "for y in cases_per_day:\r\n",
        "  if dailyChange == 0:\r\n",
        "    dailyChange = cases_per_day[y]\r\n",
        "    cases_per_day[y] = dailyChange\r\n",
        "  else:\r\n",
        "    dailyChange = cases_per_day[y] - dailyChange\r\n",
        "    temp = cases_per_day[y]\r\n",
        "    cases_per_day[y] = dailyChange\r\n",
        "    dailyChange = temp\r\n",
        "\r\n",
        "#Getting the daily change for deaths\r\n",
        "dailyChange = 0\r\n",
        "for y in death_per_day:\r\n",
        "  if dailyChange == 0:\r\n",
        "    dailyChange = death_per_day[y]\r\n",
        "    death_per_day[y] = dailyChange\r\n",
        "  else:\r\n",
        "    dailyChange = death_per_day[y] - dailyChange\r\n",
        "    temp = death_per_day[y]\r\n",
        "    death_per_day[y] = dailyChange\r\n",
        "    dailyChange = temp"
      ],
      "execution_count": 38,
      "outputs": []
    },
    {
      "cell_type": "code",
      "metadata": {
        "colab": {
          "base_uri": "https://localhost:8080/"
        },
        "id": "v4aT3oZmuj7R",
        "outputId": "c3adc348-71e5-444b-beaa-c1a4e5c14e26"
      },
      "source": [
        "#With the calculation above, we found the daily changes of cases, so we can print them by their date.\r\n",
        "print(\"The amount of cases per day, in the last 30 days, in the state of New York are: \")\r\n",
        "for x in last30Days:\r\n",
        "  year = pd.to_datetime(x).year #Getting the year from the date\r\n",
        "  month = pd.to_datetime(x).month #Getting the month from the date\r\n",
        "  day = pd.to_datetime(x).day #Getting the day from the date\r\n",
        "  print(f'On {month}/{day}/{year} there were {cases_per_day[x]} new cases & unfortunately {death_per_day[x]} New Yorkers died from the virus.')"
      ],
      "execution_count": 39,
      "outputs": [
        {
          "output_type": "stream",
          "text": [
            "The amount of cases per day, in the last 30 days, in the state of New York are: \n",
            "On 12/24/2020 there were 7906 new cases & unfortunately 98.0 New Yorkers died from the virus.\n",
            "On 12/25/2020 there were 8275 new cases & unfortunately 88.0 New Yorkers died from the virus.\n",
            "On 12/26/2020 there were 6857 new cases & unfortunately 89.0 New Yorkers died from the virus.\n",
            "On 12/27/2020 there were 4781 new cases & unfortunately 88.0 New Yorkers died from the virus.\n",
            "On 12/28/2020 there were 6884 new cases & unfortunately 83.0 New Yorkers died from the virus.\n",
            "On 12/29/2020 there were 6868 new cases & unfortunately 91.0 New Yorkers died from the virus.\n",
            "On 12/30/2020 there were 8712 new cases & unfortunately 112.0 New Yorkers died from the virus.\n",
            "On 12/31/2020 there were 10809 new cases & unfortunately 100.0 New Yorkers died from the virus.\n",
            "On 1/1/2021 there were 11204 new cases & unfortunately 134.0 New Yorkers died from the virus.\n",
            "On 1/2/2021 there were 9846 new cases & unfortunately 96.0 New Yorkers died from the virus.\n",
            "On 1/3/2021 there were 8028 new cases & unfortunately 114.0 New Yorkers died from the virus.\n",
            "On 1/4/2021 there were 7483 new cases & unfortunately 126.0 New Yorkers died from the virus.\n",
            "On 1/5/2021 there were 7803 new cases & unfortunately 123.0 New Yorkers died from the virus.\n",
            "On 1/6/2021 there were 11025 new cases & unfortunately 118.0 New Yorkers died from the virus.\n",
            "On 1/7/2021 there were 11249 new cases & unfortunately 143.0 New Yorkers died from the virus.\n",
            "On 1/8/2021 there were 12548 new cases & unfortunately 126.0 New Yorkers died from the virus.\n",
            "On 1/9/2021 there were 10899 new cases & unfortunately 143.0 New Yorkers died from the virus.\n",
            "On 1/10/2021 there were 10036 new cases & unfortunately 110.0 New Yorkers died from the virus.\n",
            "On 1/11/2021 there were 8424 new cases & unfortunately 123.0 New Yorkers died from the virus.\n",
            "On 1/12/2021 there were 9220 new cases & unfortunately 121.0 New Yorkers died from the virus.\n",
            "On 1/13/2021 there were 8755 new cases & unfortunately 129.0 New Yorkers died from the virus.\n",
            "On 1/14/2021 there were 8302 new cases & unfortunately 144.0 New Yorkers died from the virus.\n",
            "On 1/15/2021 there were 12217 new cases & unfortunately 131.0 New Yorkers died from the virus.\n",
            "On 1/16/2021 there were 9677 new cases & unfortunately 112.0 New Yorkers died from the virus.\n",
            "On 1/17/2021 there were 8091 new cases & unfortunately 128.0 New Yorkers died from the virus.\n",
            "On 1/18/2021 there were 6957 new cases & unfortunately 115.0 New Yorkers died from the virus.\n",
            "On 1/19/2021 there were 7162 new cases & unfortunately 123.0 New Yorkers died from the virus.\n",
            "On 1/20/2021 there were 6770 new cases & unfortunately 127.0 New Yorkers died from the virus.\n",
            "On 1/21/2021 there were 8688 new cases & unfortunately 118.0 New Yorkers died from the virus.\n",
            "On 1/22/2021 there were 8837 new cases & unfortunately 115.0 New Yorkers died from the virus.\n"
          ],
          "name": "stdout"
        }
      ]
    },
    {
      "cell_type": "code",
      "metadata": {
        "colab": {
          "base_uri": "https://localhost:8080/",
          "height": 718
        },
        "id": "Wyatw0MRxbH0",
        "outputId": "31794c02-1eb0-40df-af6c-b1b70b8b7f53"
      },
      "source": [
        "#Plotting based on the information and calculations above.\r\n",
        "datesNewYork = []\r\n",
        "casesNewYork = []\r\n",
        "deathsNewYork = []\r\n",
        "for x in last30Days:\r\n",
        "  datesNewYork.append(str(pd.to_datetime(x).date()))\r\n",
        "for y in last30Days:\r\n",
        "  casesNewYork.append(cases_per_day[y])\r\n",
        "  deathsNewYork.append(death_per_day[y])\r\n",
        "fig, ax = plt.subplots(figsize=(24,10))\r\n",
        "plt.bar(datesNewYork, casesNewYork, width=1)\r\n",
        "plt.xticks(rotation='vertical')\r\n",
        "ax.set_ylabel('New Cases')\r\n",
        "ax.set_title(\"Past 30 days, daily amount of cases\")\r\n",
        "plt.show()\r\n",
        "print(\"This graph shows the daily amount of new cases in the past 30 days in the state of New York \")\r\n",
        "print('The graph shows that the daily amount of new cases is inconsistent, where some days it keeps increasing but in other it will decrease for a couple days.')\r\n",
        "print('In the past 30 days, the days with the most amount of new cases were 1st of January, 7th of January, and the 15th January')"
      ],
      "execution_count": 41,
      "outputs": [
        {
          "output_type": "display_data",
          "data": {
            "image/png": "[encoded data removed]",
            "text/plain": [
              "<Figure size 1728x720 with 1 Axes>"
            ]
          },
          "metadata": {
            "tags": [],
            "needs_background": "light"
          }
        },
        {
          "output_type": "stream",
          "text": [
            "This graph shows the daily amount of new cases in the past 30 days in the state of New York \n",
            "The graph shows that the daily amount of new cases is inconsistent, where some days it keeps increasing but in other it will decrease for a couple days.\n",
            "In the past 30 days, the days with the most amount of new cases were 1st of January, 7th of January, and the 15th January\n"
          ],
          "name": "stdout"
        }
      ]
    },
    {
      "cell_type": "code",
      "metadata": {
        "colab": {
          "base_uri": "https://localhost:8080/",
          "height": 682
        },
        "id": "xkqQBIqpYDby",
        "outputId": "da72380e-27c3-407a-f24e-479a63d962f0"
      },
      "source": [
        "#Plotting the daily amount of deaths in the state of New York\r\n",
        "fig, ax = plt.subplots(figsize=(24,10))\r\n",
        "plt.bar(datesNewYork, deathsNewYork, width=1)\r\n",
        "plt.xticks(rotation='vertical')\r\n",
        "ax.set_ylabel('Number of Deaths')\r\n",
        "ax.set_title(\"Past 30 days, daily amount of deaths\")\r\n",
        "print(\"This graph shows the daily amount of deaths in the past 30 days in the state of New York \")"
      ],
      "execution_count": 43,
      "outputs": [
        {
          "output_type": "stream",
          "text": [
            "This graph shows the daily amount of deaths in the past 30 days in the state of New York \n"
          ],
          "name": "stdout"
        },
        {
          "output_type": "display_data",
          "data": {
            "image/png": "[encoded data removed]",
            "text/plain": [
              "<Figure size 1728x720 with 1 Axes>"
            ]
          },
          "metadata": {
            "tags": [],
            "needs_background": "light"
          }
        }
      ]
    },
    {
      "cell_type": "markdown",
      "metadata": {
        "id": "59e9jkYGx-rO"
      },
      "source": [
        "Comparing the amount of daily cases in New York and California, both of them keep increasing but  the amount of new daily cases in California are in the millions "
      ]
    },
    {
      "cell_type": "code",
      "metadata": {
        "colab": {
          "base_uri": "https://localhost:8080/",
          "height": 718
        },
        "id": "_pXamnqzZwrx",
        "outputId": "42695e33-870b-4434-8983-d56bd56a3b27"
      },
      "source": [
        "#Plotting based on the cases from California and New York states\r\n",
        "fig, ax = plt.subplots(figsize=(24,10))\r\n",
        "plt.plot(datesNewYork, deathsNewYork, label='New York')\r\n",
        "plt.plot(datesCalifornia, deathsCalifornia, label='California')\r\n",
        "plt.xticks(rotation='vertical')\r\n",
        "ax.set_ylabel('Number of Deaths')\r\n",
        "ax.set_title(\"Past 30 days, daily amount of deaths\")\r\n",
        "plt.legend(loc='best')\r\n",
        "plt.show()\r\n",
        "print(\"This graph shows the daily amount of deaths in the past 30 days comparing the states of New York and California\")\r\n",
        "print(\"As we can tell, New York seems a more steady amount of deaths than California, which probably means that the cases are more in control\")\r\n",
        "print(\"California has an erratic growth in deaths which shows how poorly the quarantine is being performed there\")"
      ],
      "execution_count": 47,
      "outputs": [
        {
          "output_type": "display_data",
          "data": {
            "image/png": "[encoded data removed]",
            "text/plain": [
              "<Figure size 1728x720 with 1 Axes>"
            ]
          },
          "metadata": {
            "tags": [],
            "needs_background": "light"
          }
        },
        {
          "output_type": "stream",
          "text": [
            "This graph shows the daily amount of deaths in the past 30 days comparing the states of New York and California\n",
            "As we can tell, New York seems a more steady amount of deaths than California, which probably means that the cases are more in control\n",
            "California has an erratic growth in deaths which shows how poorly the quarantine is being performed there\n"
          ],
          "name": "stdout"
        }
      ]
    },
    {
      "cell_type": "code",
      "metadata": {
        "colab": {
          "base_uri": "https://localhost:8080/",
          "height": 718
        },
        "id": "xgPfM5P8dDZF",
        "outputId": "5eecfab8-d93b-4d05-8da3-be5a737e19a8"
      },
      "source": [
        "fig, ax = plt.subplots(figsize=(24,10))\r\n",
        "plt.plot(datesNewYork, casesNewYork, label='New York')\r\n",
        "plt.plot(datesCalifornia, casesCalifornia, label='California')\r\n",
        "plt.xticks(rotation='vertical')\r\n",
        "ax.set_ylabel('Number of New Cases')\r\n",
        "ax.set_title(\"Past 30 days, daily amount of new cases\")\r\n",
        "plt.legend(loc='best')\r\n",
        "plt.show()\r\n",
        "print(\"This graph shows the daily amount of deaths in the past 30 days comparing the states of New York and California\")\r\n",
        "print(\"As we can tell, New York seems a more steady amount of grow of new cases than California\")\r\n",
        "print(\"California has an erratic growth in cases which shows how poorly the quarantine is being performed there, yet after the 11th there seems to be a slow decrease\")"
      ],
      "execution_count": 48,
      "outputs": [
        {
          "output_type": "display_data",
          "data": {
            "image/png": "[encoded data removed]",
            "text/plain": [
              "<Figure size 1728x720 with 1 Axes>"
            ]
          },
          "metadata": {
            "tags": [],
            "needs_background": "light"
          }
        },
        {
          "output_type": "stream",
          "text": [
            "This graph shows the daily amount of deaths in the past 30 days comparing the states of New York and California\n",
            "As we can tell, New York seems a more steady amount of grow of new cases than California\n",
            "California has an erratic growth in cases which shows how poorly the quarantine is being performed there, yet after the 11th there seems to be a slow decrease\n"
          ],
          "name": "stdout"
        }
      ]
    },
    {
      "cell_type": "markdown",
      "metadata": {
        "id": "n1yVD_b6d4PV"
      },
      "source": [
        "Conclusions: Comparisions between New York and California States"
      ]
    },
    {
      "cell_type": "markdown",
      "metadata": {
        "id": "u7hFUXmNu4Ru"
      },
      "source": [
        "Both states are suffering in great scale by the Covid-19 but California looks like it is slowly creating meassures to handle the situation because the growth in the last 30 days is slowly decreasing. Unfortunately a lot of people are dying in both states, which is very concerning because it shows that the virus is easily being propagrated to more vulnerable communities. "
      ]
    }
  ]
}