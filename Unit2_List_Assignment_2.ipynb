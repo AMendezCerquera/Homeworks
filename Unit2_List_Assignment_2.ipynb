{
  "nbformat": 4,
  "nbformat_minor": 0,
  "metadata": {
    "colab": {
      "name": "Unit2_List_Assignment_2.ipynb",
      "provenance": [],
      "collapsed_sections": [],
      "toc_visible": true,
      "include_colab_link": true
    },
    "kernelspec": {
      "name": "python3",
      "display_name": "Python 3"
    }
  },
  "cells": [
    {
      "cell_type": "markdown",
      "metadata": {
        "id": "view-in-github",
        "colab_type": "text"
      },
      "source": [
        "<a href=\"https://colab.research.google.com/github/AMendezCerquera/Homeworks/blob/main/Unit2_List_Assignment_2.ipynb\" target=\"_parent\"><img src=\"https://colab.research.google.com/assets/colab-badge.svg\" alt=\"Open In Colab\"/></a>"
      ]
    },
    {
      "cell_type": "markdown",
      "metadata": {
        "id": "Vgs8Kp4TidFQ"
      },
      "source": [
        "# Intrdouction to Python - List - Assingment #2  "
      ]
    },
    {
      "cell_type": "markdown",
      "metadata": {
        "id": "_Hq7Ny79iwgD"
      },
      "source": [
        "## 1.Create a list of 5 of your favorite tv shows.  ?"
      ]
    },
    {
      "cell_type": "code",
      "metadata": {
        "id": "lotvpVpvlKsR"
      },
      "source": [
        "listFavoriteTvShows = [\"Dexter\", \"Big Mouth\", \"The Witcher\", \"Black Mirror\", \"Atypical\"]"
      ],
      "execution_count": 6,
      "outputs": []
    },
    {
      "cell_type": "markdown",
      "metadata": {
        "id": "io_27RSlizno"
      },
      "source": [
        "## 2.\tPrint the list in its original order"
      ]
    },
    {
      "cell_type": "code",
      "metadata": {
        "id": "Dh1o5cAylSHB",
        "outputId": "94c7115d-3aa2-48d3-b5f5-2a2861639b11",
        "colab": {
          "base_uri": "https://localhost:8080/"
        }
      },
      "source": [
        "for currentShow in listFavoriteTvShows:\r\n",
        "  print(currentShow)"
      ],
      "execution_count": 2,
      "outputs": [
        {
          "output_type": "stream",
          "text": [
            "Dexter\n",
            "Big Mouth\n",
            "The Witcher\n",
            "Black Mirror\n",
            "Atypical\n"
          ],
          "name": "stdout"
        }
      ]
    },
    {
      "cell_type": "markdown",
      "metadata": {
        "id": "DAW8m8IQjRyR"
      },
      "source": [
        "## 3.\tUse the sorted() function to print the list in alphabetical order.  How is sorted() different from sort()?"
      ]
    },
    {
      "cell_type": "code",
      "metadata": {
        "id": "guULMEhrjYtT",
        "outputId": "2fdd298d-713a-480f-8cc6-bf22421b0d12",
        "colab": {
          "base_uri": "https://localhost:8080/"
        }
      },
      "source": [
        "listSorted = sorted(listFavoriteTvShows)\r\n",
        "print(listSorted) \r\n",
        "print(listFavoriteTvShows)\r\n",
        "listFavoriteTvShows.sort()\r\n",
        "print(listFavoriteTvShows)"
      ],
      "execution_count": 5,
      "outputs": [
        {
          "output_type": "stream",
          "text": [
            "['Atypical', 'Big Mouth', 'Black Mirror', 'Dexter', 'The Witcher']\n",
            "['Dexter', 'Big Mouth', 'The Witcher', 'Black Mirror', 'Atypical']\n",
            "['Atypical', 'Big Mouth', 'Black Mirror', 'Dexter', 'The Witcher']\n"
          ],
          "name": "stdout"
        }
      ]
    },
    {
      "cell_type": "markdown",
      "metadata": {
        "id": "c6MCxGGI9c7T"
      },
      "source": [
        "sorted() returns the list sorted.\r\n",
        "sort() modifies the list."
      ]
    },
    {
      "cell_type": "markdown",
      "metadata": {
        "id": "dpa_YOt4jXyo"
      },
      "source": [
        "## 4.\tPrint out your original list."
      ]
    },
    {
      "cell_type": "code",
      "metadata": {
        "id": "pltxfnh3iJLW",
        "outputId": "c7bfda0c-227e-4997-d252-f0f02fb33914",
        "colab": {
          "base_uri": "https://localhost:8080/"
        }
      },
      "source": [
        "print(listFavoriteTvShows)"
      ],
      "execution_count": 7,
      "outputs": [
        {
          "output_type": "stream",
          "text": [
            "['Dexter', 'Big Mouth', 'The Witcher', 'Black Mirror', 'Atypical']\n"
          ],
          "name": "stdout"
        }
      ]
    },
    {
      "cell_type": "markdown",
      "metadata": {
        "id": "Ka84RGy4jmLT"
      },
      "source": [
        "## 5.\tUsed sorted() to print your list in reverse alphabetical order."
      ]
    },
    {
      "cell_type": "code",
      "metadata": {
        "id": "34IFFtK4jrg4",
        "outputId": "437bf0b6-eb4f-4a41-bbda-a0aa478b2254",
        "colab": {
          "base_uri": "https://localhost:8080/"
        }
      },
      "source": [
        "newList = sorted(listFavoriteTvShows, reverse = True)\r\n",
        "print(newList)"
      ],
      "execution_count": 10,
      "outputs": [
        {
          "output_type": "stream",
          "text": [
            "['The Witcher', 'Dexter', 'Black Mirror', 'Big Mouth', 'Atypical']\n"
          ],
          "name": "stdout"
        }
      ]
    },
    {
      "cell_type": "markdown",
      "metadata": {
        "id": "ZKHwdMnLliFy"
      },
      "source": [
        "## 6.\tCreate a message indicating how many favorite TV shows you have – use the len() function."
      ]
    },
    {
      "cell_type": "code",
      "metadata": {
        "id": "eXUDZfLOllTT",
        "outputId": "645d1c86-c187-4cd4-f594-b98db239edab",
        "colab": {
          "base_uri": "https://localhost:8080/"
        }
      },
      "source": [
        "numberShows = len(listFavoriteTvShows)\r\n",
        "print(f\"{numberShows}\")"
      ],
      "execution_count": 13,
      "outputs": [
        {
          "output_type": "stream",
          "text": [
            "5\n"
          ],
          "name": "stdout"
        }
      ]
    }
  ]
}