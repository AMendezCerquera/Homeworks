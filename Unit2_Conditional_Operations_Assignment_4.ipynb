{
  "nbformat": 4,
  "nbformat_minor": 0,
  "metadata": {
    "colab": {
      "name": "Unit2_Conditional_Operations_Assignment_4.ipynb",
      "provenance": [],
      "collapsed_sections": [],
      "include_colab_link": true
    },
    "kernelspec": {
      "name": "python3",
      "display_name": "Python 3"
    }
  },
  "cells": [
    {
      "cell_type": "markdown",
      "metadata": {
        "id": "view-in-github",
        "colab_type": "text"
      },
      "source": [
        "<a href=\"https://colab.research.google.com/github/AMendezCerquera/Homeworks/blob/main/Unit2_Conditional_Operations_Assignment_4.ipynb\" target=\"_parent\"><img src=\"https://colab.research.google.com/assets/colab-badge.svg\" alt=\"Open In Colab\"/></a>"
      ]
    },
    {
      "cell_type": "markdown",
      "metadata": {
        "id": "Vgs8Kp4TidFQ"
      },
      "source": [
        "# Intrdouction to Python - Conditional Operations Assignment #4\r\n",
        "\r\n",
        "## If-elif-else Statements "
      ]
    },
    {
      "cell_type": "markdown",
      "metadata": {
        "id": "_Hq7Ny79iwgD"
      },
      "source": [
        "## 1.\tMake a list of 5 or more usernames, including an admin account.  Imagine you are writing code that will welcome people to your application on login. Loop through the list and print your greeting.\r\n",
        "\r\n",
        "a.\tIf the admin account logs in, give them a special greeting.  They’re the admin, after all!\r\n",
        "\r\n",
        "b.\tOther users can get the generic greeting\r\n",
        "\r\n"
      ]
    },
    {
      "cell_type": "code",
      "metadata": {
        "id": "lotvpVpvlKsR"
      },
      "source": [
        "userNames = [\"pepito\", \"maria\", \"camilo\", \"julian\", \"admin\"]"
      ],
      "execution_count": null,
      "outputs": []
    },
    {
      "cell_type": "code",
      "metadata": {
        "id": "oNXY-CfrlLbE",
        "colab": {
          "base_uri": "https://localhost:8080/"
        },
        "outputId": "83128ab8-f34f-4212-c88f-2675b7504d11"
      },
      "source": [
        "currentUserName = input(\"What is your username? \")\r\n",
        "foundTheUser = False;\r\n",
        "for currentName in userNames:\r\n",
        "  if currentUserName.lower() == currentName.lower():\r\n",
        "    if currentName == \"admin\":\r\n",
        "      print(\"Hello Mr. \"+currentName)\r\n",
        "      foundTheUser = True\r\n",
        "      break\r\n",
        "    else:\r\n",
        "      print(\"Hello \"+currentName)\r\n",
        "      foundTheUser = True\r\n",
        "      break\r\n",
        "if foundTheUser == False:\r\n",
        "  print(\"You're not a user, please leave or we'll call the police\")"
      ],
      "execution_count": null,
      "outputs": [
        {
          "output_type": "stream",
          "text": [
            "What is your username? admin\n",
            "Hello Mr. admin\n"
          ],
          "name": "stdout"
        }
      ]
    },
    {
      "cell_type": "markdown",
      "metadata": {
        "id": "io_27RSlizno"
      },
      "source": [
        "## 2.\tStore numbers 1-10 in a list\r\n",
        "\r\n",
        "a.\tLoop through the list\r\n",
        "\r\n",
        "b.\tUse an if-elif-else chain inside your loop to print the ordinal ending for each number – for example – 1st, 2nd, 3rd … etc.\r\n",
        "\r\n"
      ]
    },
    {
      "cell_type": "code",
      "metadata": {
        "id": "Dh1o5cAylSHB",
        "colab": {
          "base_uri": "https://localhost:8080/"
        },
        "outputId": "974e9ea5-8ae3-446c-d997-ee36373333a5"
      },
      "source": [
        "listNumbers = list(range(1,11))\r\n",
        "for currentNumber in listNumbers:\r\n",
        "  if currentNumber == 1:\r\n",
        "    print(f\"{currentNumber}st\")\r\n",
        "  elif currentNumber == 2:\r\n",
        "    print(f\"{currentNumber}nd\")\r\n",
        "  elif currentNumber == 3:\r\n",
        "    print(f\"{currentNumber}rd\")\r\n",
        "  else:\r\n",
        "    print(f\"{currentNumber}th\")"
      ],
      "execution_count": 7,
      "outputs": [
        {
          "output_type": "stream",
          "text": [
            "1st\n",
            "2nd\n",
            "3rd\n",
            "4th\n",
            "5th\n",
            "6th\n",
            "7th\n",
            "8th\n",
            "9th\n",
            "10th\n"
          ],
          "name": "stdout"
        }
      ]
    }
  ]
}